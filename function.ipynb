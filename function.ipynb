{
  "nbformat": 4,
  "nbformat_minor": 0,
  "metadata": {
    "colab": {
      "name": "function.ipynb",
      "provenance": [],
      "include_colab_link": true
    },
    "kernelspec": {
      "name": "python3",
      "display_name": "Python 3"
    }
  },
  "cells": [
    {
      "cell_type": "markdown",
      "metadata": {
        "id": "view-in-github",
        "colab_type": "text"
      },
      "source": [
        "<a href=\"https://colab.research.google.com/github/Junse0/Private/blob/main/function.ipynb\" target=\"_parent\"><img src=\"https://colab.research.google.com/assets/colab-badge.svg\" alt=\"Open In Colab\"/></a>"
      ]
    },
    {
      "cell_type": "code",
      "metadata": {
        "id": "hpc_mhgAye2S"
      },
      "source": [
        "def add(a,b):\n",
        "  return a+b\n",
        "\n",
        "def subtract(a,b):\n",
        "  return a-b\n",
        "\n",
        "def multiply(a,b):\n",
        "  return a*b\n",
        "\n",
        "def divide(a,b):\n",
        "  return a/b"
      ],
      "execution_count": null,
      "outputs": []
    },
    {
      "cell_type": "code",
      "metadata": {
        "colab": {
          "base_uri": "https://localhost:8080/"
        },
        "id": "8Y4oa05Eykn4",
        "outputId": "8f7bb795-584c-4221-cd22-24e0037c6612"
      },
      "source": [
        "c = add(1,2); print(c)\n",
        "c = subtract(1,2); print(c)\n",
        "c = multiply(1,2); print(c)\n",
        "c = divide(1,2); print(c)"
      ],
      "execution_count": null,
      "outputs": [
        {
          "output_type": "stream",
          "name": "stdout",
          "text": [
            "3\n",
            "-1\n",
            "2\n",
            "0.5\n"
          ]
        }
      ]
    },
    {
      "cell_type": "code",
      "source": [
        "def myfirstfunction(a, b, c):\n",
        "  d= a+b\n",
        "  e= d*4\n",
        "  f= e/2\n",
        "  return f\n",
        "# 변화가 없음 단지 이 function을 쓸 수 있는 상태가 됨(메모리에 저장)"
      ],
      "metadata": {
        "id": "U_FW5cs3fzu8"
      },
      "execution_count": null,
      "outputs": []
    },
    {
      "cell_type": "code",
      "source": [
        "# 함수는 입력과 출력을 가질 수 있지만, 반드시 입출력을 명시할 필요는 없음(입력에 아무 것도 안 들어와도 됨)!\n",
        "\n",
        "# 입력과 출력을 모두 하지 않음(겉으로 보기는 하는게 아무 것도 없음)(함수임)\n",
        "def testfunc():\n",
        "  a=1\n",
        "  b=2\n",
        "  c= a+b\n",
        "\n",
        "# 입력은 없지만 출력은 함(하는 것은 있음)\n",
        "def testfunc():\n",
        "  a=1\n",
        "  b=2\n",
        "  c= a+b \n",
        "  return c \n",
        "\n",
        "# 이외에도 입력O, 출력X/ 입력O, 출력O 가능\n"
      ],
      "metadata": {
        "id": "_sazPBekiggm"
      },
      "execution_count": null,
      "outputs": []
    },
    {
      "cell_type": "code",
      "source": [
        "k = myfirstfunction(1, 0, 2)\n",
        "print(k)"
      ],
      "metadata": {
        "id": "jS07yVXzg4U_",
        "outputId": "956ef4c5-029a-4224-9754-86656e8933b9",
        "colab": {
          "base_uri": "https://localhost:8080/"
        }
      },
      "execution_count": null,
      "outputs": [
        {
          "output_type": "stream",
          "name": "stdout",
          "text": [
            "2.0\n"
          ]
        }
      ]
    }
  ]
}