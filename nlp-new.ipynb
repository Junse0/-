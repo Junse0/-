{
  "nbformat": 4,
  "nbformat_minor": 0,
  "metadata": {
    "kernelspec": {
      "display_name": "Python 3",
      "language": "python",
      "name": "python3"
    },
    "language_info": {
      "codemirror_mode": {
        "name": "ipython",
        "version": 3
      },
      "file_extension": ".py",
      "mimetype": "text/x-python",
      "name": "python",
      "nbconvert_exporter": "python",
      "pygments_lexer": "ipython3",
      "version": "3.7.1"
    },
    "colab": {
      "name": "nlp.ipynb",
      "provenance": [],
      "include_colab_link": true
    }
  },
  "cells": [
    {
      "cell_type": "markdown",
      "metadata": {
        "id": "view-in-github",
        "colab_type": "text"
      },
      "source": [
        "<a href=\"https://colab.research.google.com/github/Junse0/Private/blob/main/nlp-new.ipynb\" target=\"_parent\"><img src=\"https://colab.research.google.com/assets/colab-badge.svg\" alt=\"Open In Colab\"/></a>"
      ]
    },
    {
      "cell_type": "markdown",
      "metadata": {
        "id": "ltUO0sYwyGfU"
      },
      "source": [
        "### Tokenization   (단어를 쪼개 주는 것)"
      ]
    },
    {
      "cell_type": "code",
      "metadata": {
        "id": "di6xZ08xsgO7"
      },
      "source": [
        "import nltk"
      ],
      "execution_count": 105,
      "outputs": []
    },
    {
      "cell_type": "code",
      "metadata": {
        "id": "tbHEyyNHntcZ"
      },
      "source": [
        "text = 'Here’s to the crazy ones, the misfits, the rebels, the troublemakers, the round pegs in the square holes. \\\n",
        "The ones who see things differently — they’re not fond of rules. \\\n",
        "You can quote them, disagree with them, glorify or vilify them, \\\n",
        "but the only thing you can’t do is ignore them because they change things. \\\n",
        "They push the human race forward, and while some may see them as the crazy ones, we see genius, \\\n",
        "because the ones who are crazy enough to think that they can change the world, are the ones who do.'\n",
        "# 역 슬래쉬는 보기 좋게 끊어주는 것임 아무런 의미 없음\n",
        "# text = 'Here’s to the crazy ones, the misfits, the rebels, the troublemakers, the round pegs in the square holes. The ones who see things differently — they’re not fond of rules. \\"
      ],
      "execution_count": 106,
      "outputs": []
    },
    {
      "cell_type": "code",
      "source": [
        "type(text)\n",
        "print(type(text))\n",
        "len(text)\n",
        "print(len(text))\n",
        "text[0:10]    #인덱싱 0부터 9까지(총 10개)\n",
        "# [:10] 제일 처음부터 (0이 있으나 없으나 같음)\n",
        "# [0:] 제일 끝까지이다\n",
        "# [:] 전부 다\n",
        "# [:-1] 제일 뒤(-1번째) 제외하고"
      ],
      "metadata": {
        "id": "XdeoG62fm-eB",
        "outputId": "6b8b89ad-ce9b-40a3-9b6d-11d624b03575",
        "colab": {
          "base_uri": "https://localhost:8080/",
          "height": 73
        }
      },
      "execution_count": 107,
      "outputs": [
        {
          "output_type": "stream",
          "name": "stdout",
          "text": [
            "<class 'str'>\n",
            "505\n"
          ]
        },
        {
          "output_type": "execute_result",
          "data": {
            "application/vnd.google.colaboratory.intrinsic+json": {
              "type": "string"
            },
            "text/plain": [
              "'Here’s to '"
            ]
          },
          "metadata": {},
          "execution_count": 107
        }
      ]
    },
    {
      "cell_type": "code",
      "metadata": {
        "id": "45jV2UYs1GEC",
        "outputId": "430675db-88dc-48b6-84ea-bebaa37e985e",
        "colab": {
          "base_uri": "https://localhost:8080/"
        }
      },
      "source": [
        "text.split()    # split은 일종의 함수   #형태를 그냥 암기 #class에는 variables 뿐만 아니라 함수도 포함됨\n",
        "# space 기반으로 분류(space포함 안 함)\n",
        "# type(text.split())  결과값: list"
      ],
      "execution_count": 108,
      "outputs": [
        {
          "output_type": "execute_result",
          "data": {
            "text/plain": [
              "['Here’s',\n",
              " 'to',\n",
              " 'the',\n",
              " 'crazy',\n",
              " 'ones,',\n",
              " 'the',\n",
              " 'misfits,',\n",
              " 'the',\n",
              " 'rebels,',\n",
              " 'the',\n",
              " 'troublemakers,',\n",
              " 'the',\n",
              " 'round',\n",
              " 'pegs',\n",
              " 'in',\n",
              " 'the',\n",
              " 'square',\n",
              " 'holes.',\n",
              " 'The',\n",
              " 'ones',\n",
              " 'who',\n",
              " 'see',\n",
              " 'things',\n",
              " 'differently',\n",
              " '—',\n",
              " 'they’re',\n",
              " 'not',\n",
              " 'fond',\n",
              " 'of',\n",
              " 'rules.',\n",
              " 'You',\n",
              " 'can',\n",
              " 'quote',\n",
              " 'them,',\n",
              " 'disagree',\n",
              " 'with',\n",
              " 'them,',\n",
              " 'glorify',\n",
              " 'or',\n",
              " 'vilify',\n",
              " 'them,',\n",
              " 'but',\n",
              " 'the',\n",
              " 'only',\n",
              " 'thing',\n",
              " 'you',\n",
              " 'can’t',\n",
              " 'do',\n",
              " 'is',\n",
              " 'ignore',\n",
              " 'them',\n",
              " 'because',\n",
              " 'they',\n",
              " 'change',\n",
              " 'things.',\n",
              " 'They',\n",
              " 'push',\n",
              " 'the',\n",
              " 'human',\n",
              " 'race',\n",
              " 'forward,',\n",
              " 'and',\n",
              " 'while',\n",
              " 'some',\n",
              " 'may',\n",
              " 'see',\n",
              " 'them',\n",
              " 'as',\n",
              " 'the',\n",
              " 'crazy',\n",
              " 'ones,',\n",
              " 'we',\n",
              " 'see',\n",
              " 'genius,',\n",
              " 'because',\n",
              " 'the',\n",
              " 'ones',\n",
              " 'who',\n",
              " 'are',\n",
              " 'crazy',\n",
              " 'enough',\n",
              " 'to',\n",
              " 'think',\n",
              " 'that',\n",
              " 'they',\n",
              " 'can',\n",
              " 'change',\n",
              " 'the',\n",
              " 'world,',\n",
              " 'are',\n",
              " 'the',\n",
              " 'ones',\n",
              " 'who',\n",
              " 'do.']"
            ]
          },
          "metadata": {},
          "execution_count": 108
        }
      ]
    },
    {
      "cell_type": "code",
      "metadata": {
        "id": "41deawhcArsU",
        "outputId": "dc8892c2-5323-42b4-feb1-42724588c2dd",
        "colab": {
          "base_uri": "https://localhost:8080/"
        }
      },
      "source": [
        "text.split()    #원시적인 tokenize\n",
        "# ()의 default가 (' ')임\n",
        "# text.split(' ')"
      ],
      "execution_count": 109,
      "outputs": [
        {
          "output_type": "execute_result",
          "data": {
            "text/plain": [
              "['Here’s',\n",
              " 'to',\n",
              " 'the',\n",
              " 'crazy',\n",
              " 'ones,',\n",
              " 'the',\n",
              " 'misfits,',\n",
              " 'the',\n",
              " 'rebels,',\n",
              " 'the',\n",
              " 'troublemakers,',\n",
              " 'the',\n",
              " 'round',\n",
              " 'pegs',\n",
              " 'in',\n",
              " 'the',\n",
              " 'square',\n",
              " 'holes.',\n",
              " 'The',\n",
              " 'ones',\n",
              " 'who',\n",
              " 'see',\n",
              " 'things',\n",
              " 'differently',\n",
              " '—',\n",
              " 'they’re',\n",
              " 'not',\n",
              " 'fond',\n",
              " 'of',\n",
              " 'rules.',\n",
              " 'You',\n",
              " 'can',\n",
              " 'quote',\n",
              " 'them,',\n",
              " 'disagree',\n",
              " 'with',\n",
              " 'them,',\n",
              " 'glorify',\n",
              " 'or',\n",
              " 'vilify',\n",
              " 'them,',\n",
              " 'but',\n",
              " 'the',\n",
              " 'only',\n",
              " 'thing',\n",
              " 'you',\n",
              " 'can’t',\n",
              " 'do',\n",
              " 'is',\n",
              " 'ignore',\n",
              " 'them',\n",
              " 'because',\n",
              " 'they',\n",
              " 'change',\n",
              " 'things.',\n",
              " 'They',\n",
              " 'push',\n",
              " 'the',\n",
              " 'human',\n",
              " 'race',\n",
              " 'forward,',\n",
              " 'and',\n",
              " 'while',\n",
              " 'some',\n",
              " 'may',\n",
              " 'see',\n",
              " 'them',\n",
              " 'as',\n",
              " 'the',\n",
              " 'crazy',\n",
              " 'ones,',\n",
              " 'we',\n",
              " 'see',\n",
              " 'genius,',\n",
              " 'because',\n",
              " 'the',\n",
              " 'ones',\n",
              " 'who',\n",
              " 'are',\n",
              " 'crazy',\n",
              " 'enough',\n",
              " 'to',\n",
              " 'think',\n",
              " 'that',\n",
              " 'they',\n",
              " 'can',\n",
              " 'change',\n",
              " 'the',\n",
              " 'world,',\n",
              " 'are',\n",
              " 'the',\n",
              " 'ones',\n",
              " 'who',\n",
              " 'do.']"
            ]
          },
          "metadata": {},
          "execution_count": 109
        }
      ]
    },
    {
      "cell_type": "code",
      "metadata": {
        "id": "NFR-cRaahTPy",
        "outputId": "de3eaa5a-9f4c-4a79-c732-59628515a8fc",
        "colab": {
          "base_uri": "https://localhost:8080/",
          "height": 92
        }
      },
      "source": [
        "' '.join(text.split()) #text.split()의 list를 glueing\n",
        "\n",
        "# words = text.split()\n",
        "# ' '.join(words)   # words의 list를 glueing\n",
        "# 원상태로 복귀됨"
      ],
      "execution_count": 110,
      "outputs": [
        {
          "output_type": "execute_result",
          "data": {
            "application/vnd.google.colaboratory.intrinsic+json": {
              "type": "string"
            },
            "text/plain": [
              "'Here’s to the crazy ones, the misfits, the rebels, the troublemakers, the round pegs in the square holes. The ones who see things differently — they’re not fond of rules. You can quote them, disagree with them, glorify or vilify them, but the only thing you can’t do is ignore them because they change things. They push the human race forward, and while some may see them as the crazy ones, we see genius, because the ones who are crazy enough to think that they can change the world, are the ones who do.'"
            ]
          },
          "metadata": {},
          "execution_count": 110
        }
      ]
    },
    {
      "cell_type": "code",
      "metadata": {
        "id": "Gq_lPZMHntcb",
        "colab": {
          "base_uri": "https://localhost:8080/"
        },
        "outputId": "35f7acfd-9f9b-4785-f904-0780aaa053ff"
      },
      "source": [
        "#조금 더 유려하게 끊어주고자 tokenize (쉼표...)\n",
        "from nltk.tokenize import word_tokenize  #word_tokenize\n",
        "nltk.download('punkt')    # 미리 저장된 punktuation을 다운받아야 함 # 안 적으면 error\n",
        "words = word_tokenize(text)   #str을 list로 쪼갬(' , 등도 포함)\n",
        "words"
      ],
      "execution_count": 111,
      "outputs": [
        {
          "output_type": "stream",
          "name": "stdout",
          "text": [
            "[nltk_data] Downloading package punkt to /root/nltk_data...\n",
            "[nltk_data]   Package punkt is already up-to-date!\n"
          ]
        },
        {
          "output_type": "execute_result",
          "data": {
            "text/plain": [
              "['Here',\n",
              " '’',\n",
              " 's',\n",
              " 'to',\n",
              " 'the',\n",
              " 'crazy',\n",
              " 'ones',\n",
              " ',',\n",
              " 'the',\n",
              " 'misfits',\n",
              " ',',\n",
              " 'the',\n",
              " 'rebels',\n",
              " ',',\n",
              " 'the',\n",
              " 'troublemakers',\n",
              " ',',\n",
              " 'the',\n",
              " 'round',\n",
              " 'pegs',\n",
              " 'in',\n",
              " 'the',\n",
              " 'square',\n",
              " 'holes',\n",
              " '.',\n",
              " 'The',\n",
              " 'ones',\n",
              " 'who',\n",
              " 'see',\n",
              " 'things',\n",
              " 'differently',\n",
              " '—',\n",
              " 'they',\n",
              " '’',\n",
              " 're',\n",
              " 'not',\n",
              " 'fond',\n",
              " 'of',\n",
              " 'rules',\n",
              " '.',\n",
              " 'You',\n",
              " 'can',\n",
              " 'quote',\n",
              " 'them',\n",
              " ',',\n",
              " 'disagree',\n",
              " 'with',\n",
              " 'them',\n",
              " ',',\n",
              " 'glorify',\n",
              " 'or',\n",
              " 'vilify',\n",
              " 'them',\n",
              " ',',\n",
              " 'but',\n",
              " 'the',\n",
              " 'only',\n",
              " 'thing',\n",
              " 'you',\n",
              " 'can',\n",
              " '’',\n",
              " 't',\n",
              " 'do',\n",
              " 'is',\n",
              " 'ignore',\n",
              " 'them',\n",
              " 'because',\n",
              " 'they',\n",
              " 'change',\n",
              " 'things',\n",
              " '.',\n",
              " 'They',\n",
              " 'push',\n",
              " 'the',\n",
              " 'human',\n",
              " 'race',\n",
              " 'forward',\n",
              " ',',\n",
              " 'and',\n",
              " 'while',\n",
              " 'some',\n",
              " 'may',\n",
              " 'see',\n",
              " 'them',\n",
              " 'as',\n",
              " 'the',\n",
              " 'crazy',\n",
              " 'ones',\n",
              " ',',\n",
              " 'we',\n",
              " 'see',\n",
              " 'genius',\n",
              " ',',\n",
              " 'because',\n",
              " 'the',\n",
              " 'ones',\n",
              " 'who',\n",
              " 'are',\n",
              " 'crazy',\n",
              " 'enough',\n",
              " 'to',\n",
              " 'think',\n",
              " 'that',\n",
              " 'they',\n",
              " 'can',\n",
              " 'change',\n",
              " 'the',\n",
              " 'world',\n",
              " ',',\n",
              " 'are',\n",
              " 'the',\n",
              " 'ones',\n",
              " 'who',\n",
              " 'do',\n",
              " '.']"
            ]
          },
          "metadata": {},
          "execution_count": 111
        }
      ]
    },
    {
      "cell_type": "code",
      "metadata": {
        "id": "RC1fe7nWF6wN"
      },
      "source": [
        "from nltk.tokenize import RegexpTokenizer   #RegexpTokenizer: regular expression(일종의 룰)을 기반으로 한 tokenizer\n",
        "retokenize = RegexpTokenizer(\"[\\w]+\")     # [\\w]+ :워드임(?)\n",
        "words = retokenize.tokenize(text)   # 스펠링만 tokenize됨"
      ],
      "execution_count": 112,
      "outputs": []
    },
    {
      "cell_type": "markdown",
      "metadata": {
        "id": "Pc42Plwx56YS"
      },
      "source": [
        "### Normalization  (변이형들을 하나의 형태로)\n",
        "Stemming: am → am, the going → the go, having → hav   (끊어줌)(동사 원형은 아님) \n",
        "\n",
        "Lemmatization: am → be, the going → the going, having → have   (사전에 등재된 원형으로)"
      ]
    },
    {
      "cell_type": "code",
      "metadata": {
        "id": "lsFfoAr259Fs",
        "outputId": "0306b782-9bf2-4b9f-9335-3bbb7a5e09b1",
        "colab": {
          "base_uri": "https://localhost:8080/"
        }
      },
      "source": [
        "# PorterStemmer\n",
        "from nltk.stem import PorterStemmer\n",
        "stemmer = PorterStemmer()   # stemmer을 쓸 수 있게된 상태 # str의 적용을 받음(?) \n",
        "[stemmer.stem(w) for w in words]    # words의 list들을 모두 stemming처리 후 다시 list로   # []:list 표시    # words는 현재 str이 들어간 list\n",
        "# ㄴ words에서 list 개수만큼 for loop를 돌려 w로 받음(for w in words), 이후 w가 stemmer.stem(w)에 들어가서 첫 번째 것이 됨\n",
        "# ex. here이 w가 되어서 stemmer.stem(w)에 들어가 list \n",
        "# 그 다음 단어가.....\n",
        "\n",
        "# list comprehension\n"
      ],
      "execution_count": 113,
      "outputs": [
        {
          "output_type": "execute_result",
          "data": {
            "text/plain": [
              "['here',\n",
              " 's',\n",
              " 'to',\n",
              " 'the',\n",
              " 'crazi',\n",
              " 'one',\n",
              " 'the',\n",
              " 'misfit',\n",
              " 'the',\n",
              " 'rebel',\n",
              " 'the',\n",
              " 'troublemak',\n",
              " 'the',\n",
              " 'round',\n",
              " 'peg',\n",
              " 'in',\n",
              " 'the',\n",
              " 'squar',\n",
              " 'hole',\n",
              " 'the',\n",
              " 'one',\n",
              " 'who',\n",
              " 'see',\n",
              " 'thing',\n",
              " 'differ',\n",
              " 'they',\n",
              " 're',\n",
              " 'not',\n",
              " 'fond',\n",
              " 'of',\n",
              " 'rule',\n",
              " 'you',\n",
              " 'can',\n",
              " 'quot',\n",
              " 'them',\n",
              " 'disagre',\n",
              " 'with',\n",
              " 'them',\n",
              " 'glorifi',\n",
              " 'or',\n",
              " 'vilifi',\n",
              " 'them',\n",
              " 'but',\n",
              " 'the',\n",
              " 'onli',\n",
              " 'thing',\n",
              " 'you',\n",
              " 'can',\n",
              " 't',\n",
              " 'do',\n",
              " 'is',\n",
              " 'ignor',\n",
              " 'them',\n",
              " 'becaus',\n",
              " 'they',\n",
              " 'chang',\n",
              " 'thing',\n",
              " 'they',\n",
              " 'push',\n",
              " 'the',\n",
              " 'human',\n",
              " 'race',\n",
              " 'forward',\n",
              " 'and',\n",
              " 'while',\n",
              " 'some',\n",
              " 'may',\n",
              " 'see',\n",
              " 'them',\n",
              " 'as',\n",
              " 'the',\n",
              " 'crazi',\n",
              " 'one',\n",
              " 'we',\n",
              " 'see',\n",
              " 'geniu',\n",
              " 'becaus',\n",
              " 'the',\n",
              " 'one',\n",
              " 'who',\n",
              " 'are',\n",
              " 'crazi',\n",
              " 'enough',\n",
              " 'to',\n",
              " 'think',\n",
              " 'that',\n",
              " 'they',\n",
              " 'can',\n",
              " 'chang',\n",
              " 'the',\n",
              " 'world',\n",
              " 'are',\n",
              " 'the',\n",
              " 'one',\n",
              " 'who',\n",
              " 'do']"
            ]
          },
          "metadata": {},
          "execution_count": 113
        }
      ]
    },
    {
      "cell_type": "code",
      "source": [
        "# PorterStemmer 연습\n",
        "from nltk.stem import PorterStemmer\n",
        "stemmer = PorterStemmer()   # stemmer을 쓸 수 있게된 상태\n",
        "stemmer.stem(words[0]) # words는 이미 tokenize됨(앞선 셀에서 이미 처리) # stemmer.trem('하나의 단어') #한 단어를 입력으로 받는다는 것이 중요!\n",
        "print(stemmer.stem(words[0]))\n",
        "\n",
        "# stemmer.stem('am')\n",
        "# print(stemmer.stem('am'))   #결과값 am\n",
        "# stemmer.stem('having')\n",
        "# print(stemmer.stem('having'))   #결과값 have"
      ],
      "metadata": {
        "id": "2vu2VGpkqxv5",
        "outputId": "c22eccbc-24e2-4eaa-eed0-7630deaa84b4",
        "colab": {
          "base_uri": "https://localhost:8080/"
        }
      },
      "execution_count": 114,
      "outputs": [
        {
          "output_type": "stream",
          "name": "stdout",
          "text": [
            "here\n"
          ]
        }
      ]
    },
    {
      "cell_type": "code",
      "metadata": {
        "id": "HkbgNiPd8BdL",
        "outputId": "0ad8d7c8-4e22-48f0-d32e-580ea7e1b0ba",
        "colab": {
          "base_uri": "https://localhost:8080/"
        }
      },
      "source": [
        "# LancasterStemmer\n",
        "from nltk.stem import LancasterStemmer\n",
        "stemmer = LancasterStemmer()\n",
        "[stemmer.stem(w) for w in words]"
      ],
      "execution_count": 115,
      "outputs": [
        {
          "output_type": "execute_result",
          "data": {
            "text/plain": [
              "['her',\n",
              " 's',\n",
              " 'to',\n",
              " 'the',\n",
              " 'crazy',\n",
              " 'on',\n",
              " 'the',\n",
              " 'misfit',\n",
              " 'the',\n",
              " 'rebel',\n",
              " 'the',\n",
              " 'troublemak',\n",
              " 'the',\n",
              " 'round',\n",
              " 'peg',\n",
              " 'in',\n",
              " 'the',\n",
              " 'squ',\n",
              " 'hol',\n",
              " 'the',\n",
              " 'on',\n",
              " 'who',\n",
              " 'see',\n",
              " 'thing',\n",
              " 'diff',\n",
              " 'they',\n",
              " 're',\n",
              " 'not',\n",
              " 'fond',\n",
              " 'of',\n",
              " 'rul',\n",
              " 'you',\n",
              " 'can',\n",
              " 'quot',\n",
              " 'them',\n",
              " 'disagr',\n",
              " 'with',\n",
              " 'them',\n",
              " 'glor',\n",
              " 'or',\n",
              " 'vil',\n",
              " 'them',\n",
              " 'but',\n",
              " 'the',\n",
              " 'on',\n",
              " 'thing',\n",
              " 'you',\n",
              " 'can',\n",
              " 't',\n",
              " 'do',\n",
              " 'is',\n",
              " 'ign',\n",
              " 'them',\n",
              " 'becaus',\n",
              " 'they',\n",
              " 'chang',\n",
              " 'thing',\n",
              " 'they',\n",
              " 'push',\n",
              " 'the',\n",
              " 'hum',\n",
              " 'rac',\n",
              " 'forward',\n",
              " 'and',\n",
              " 'whil',\n",
              " 'som',\n",
              " 'may',\n",
              " 'see',\n",
              " 'them',\n",
              " 'as',\n",
              " 'the',\n",
              " 'crazy',\n",
              " 'on',\n",
              " 'we',\n",
              " 'see',\n",
              " 'geni',\n",
              " 'becaus',\n",
              " 'the',\n",
              " 'on',\n",
              " 'who',\n",
              " 'ar',\n",
              " 'crazy',\n",
              " 'enough',\n",
              " 'to',\n",
              " 'think',\n",
              " 'that',\n",
              " 'they',\n",
              " 'can',\n",
              " 'chang',\n",
              " 'the',\n",
              " 'world',\n",
              " 'ar',\n",
              " 'the',\n",
              " 'on',\n",
              " 'who',\n",
              " 'do']"
            ]
          },
          "metadata": {},
          "execution_count": 115
        }
      ]
    },
    {
      "cell_type": "code",
      "metadata": {
        "id": "VIIh5pYd8f74",
        "outputId": "0a76368f-6fb0-48d3-9a78-38866caddb0a",
        "colab": {
          "base_uri": "https://localhost:8080/"
        }
      },
      "source": [
        "# WordNetLemmatizer (동사원형?)\n",
        "from nltk.stem import WordNetLemmatizer\n",
        "nltk.download('wordnet')\n",
        "lemmatizer = WordNetLemmatizer()\n",
        "[lemmatizer.lemmatize(w) for w in words]"
      ],
      "execution_count": 116,
      "outputs": [
        {
          "output_type": "stream",
          "name": "stdout",
          "text": [
            "[nltk_data] Downloading package wordnet to /root/nltk_data...\n",
            "[nltk_data]   Package wordnet is already up-to-date!\n"
          ]
        },
        {
          "output_type": "execute_result",
          "data": {
            "text/plain": [
              "['Here',\n",
              " 's',\n",
              " 'to',\n",
              " 'the',\n",
              " 'crazy',\n",
              " 'one',\n",
              " 'the',\n",
              " 'misfit',\n",
              " 'the',\n",
              " 'rebel',\n",
              " 'the',\n",
              " 'troublemaker',\n",
              " 'the',\n",
              " 'round',\n",
              " 'peg',\n",
              " 'in',\n",
              " 'the',\n",
              " 'square',\n",
              " 'hole',\n",
              " 'The',\n",
              " 'one',\n",
              " 'who',\n",
              " 'see',\n",
              " 'thing',\n",
              " 'differently',\n",
              " 'they',\n",
              " 're',\n",
              " 'not',\n",
              " 'fond',\n",
              " 'of',\n",
              " 'rule',\n",
              " 'You',\n",
              " 'can',\n",
              " 'quote',\n",
              " 'them',\n",
              " 'disagree',\n",
              " 'with',\n",
              " 'them',\n",
              " 'glorify',\n",
              " 'or',\n",
              " 'vilify',\n",
              " 'them',\n",
              " 'but',\n",
              " 'the',\n",
              " 'only',\n",
              " 'thing',\n",
              " 'you',\n",
              " 'can',\n",
              " 't',\n",
              " 'do',\n",
              " 'is',\n",
              " 'ignore',\n",
              " 'them',\n",
              " 'because',\n",
              " 'they',\n",
              " 'change',\n",
              " 'thing',\n",
              " 'They',\n",
              " 'push',\n",
              " 'the',\n",
              " 'human',\n",
              " 'race',\n",
              " 'forward',\n",
              " 'and',\n",
              " 'while',\n",
              " 'some',\n",
              " 'may',\n",
              " 'see',\n",
              " 'them',\n",
              " 'a',\n",
              " 'the',\n",
              " 'crazy',\n",
              " 'one',\n",
              " 'we',\n",
              " 'see',\n",
              " 'genius',\n",
              " 'because',\n",
              " 'the',\n",
              " 'one',\n",
              " 'who',\n",
              " 'are',\n",
              " 'crazy',\n",
              " 'enough',\n",
              " 'to',\n",
              " 'think',\n",
              " 'that',\n",
              " 'they',\n",
              " 'can',\n",
              " 'change',\n",
              " 'the',\n",
              " 'world',\n",
              " 'are',\n",
              " 'the',\n",
              " 'one',\n",
              " 'who',\n",
              " 'do']"
            ]
          },
          "metadata": {},
          "execution_count": 116
        }
      ]
    },
    {
      "cell_type": "markdown",
      "metadata": {
        "id": "RPgIzrjm8_1N"
      },
      "source": [
        "### Stopword   (빈번한 단어는 고려하지 않음)"
      ]
    },
    {
      "cell_type": "code",
      "metadata": {
        "id": "WdM2FaN8ntcc",
        "colab": {
          "base_uri": "https://localhost:8080/"
        },
        "outputId": "b6825a29-e83d-4e22-dc6b-79f3b65a8b0c"
      },
      "source": [
        "from nltk.corpus import stopwords  \n",
        "nltk.download('stopwords')    # 다운로드 해야 됨(안 하면 error)   # 대명사, 전치사...\n",
        "print(words)  # tokenize가 된 것 출력   # ['Here', '’', 's', 'to', 'the', 'crazy', 'ones', ',', 'the', 'misfits', ',', 'the'\n",
        "words = [w for w in words if not w in stopwords.words('english')] # tokenize가 된 것에서 stopwords를 제외   # []: list comprehension\n",
        "# ㄴwords라는 list의 처음부터 끝까지 w로 받아 for loop로 돌리는데 (for w in words), 각 루프의 w(list의 하나하나 값)가 stopwods 속에 들어 있지 않으면(if not w in stopwords.words('english')) list up 해라([]))\n",
        "print(words)    # s, to , the, in...이 빠짐"
      ],
      "execution_count": 117,
      "outputs": [
        {
          "output_type": "stream",
          "name": "stdout",
          "text": [
            "[nltk_data] Downloading package stopwords to /root/nltk_data...\n",
            "[nltk_data]   Package stopwords is already up-to-date!\n",
            "['Here', 's', 'to', 'the', 'crazy', 'ones', 'the', 'misfits', 'the', 'rebels', 'the', 'troublemakers', 'the', 'round', 'pegs', 'in', 'the', 'square', 'holes', 'The', 'ones', 'who', 'see', 'things', 'differently', 'they', 're', 'not', 'fond', 'of', 'rules', 'You', 'can', 'quote', 'them', 'disagree', 'with', 'them', 'glorify', 'or', 'vilify', 'them', 'but', 'the', 'only', 'thing', 'you', 'can', 't', 'do', 'is', 'ignore', 'them', 'because', 'they', 'change', 'things', 'They', 'push', 'the', 'human', 'race', 'forward', 'and', 'while', 'some', 'may', 'see', 'them', 'as', 'the', 'crazy', 'ones', 'we', 'see', 'genius', 'because', 'the', 'ones', 'who', 'are', 'crazy', 'enough', 'to', 'think', 'that', 'they', 'can', 'change', 'the', 'world', 'are', 'the', 'ones', 'who', 'do']\n",
            "['Here', 'crazy', 'ones', 'misfits', 'rebels', 'troublemakers', 'round', 'pegs', 'square', 'holes', 'The', 'ones', 'see', 'things', 'differently', 'fond', 'rules', 'You', 'quote', 'disagree', 'glorify', 'vilify', 'thing', 'ignore', 'change', 'things', 'They', 'push', 'human', 'race', 'forward', 'may', 'see', 'crazy', 'ones', 'see', 'genius', 'ones', 'crazy', 'enough', 'think', 'change', 'world', 'ones']\n"
          ]
        }
      ]
    },
    {
      "cell_type": "code",
      "source": [
        "# stopwords 예문\n",
        "from nltk.corpus import stopwords  \n",
        "nltk.download('stopwords') \n",
        "stopwords.words('english')"
      ],
      "metadata": {
        "id": "24Zus5ybvDnA",
        "outputId": "a90a5987-73fc-4927-f5eb-ab22311efafb",
        "colab": {
          "base_uri": "https://localhost:8080/"
        }
      },
      "execution_count": 118,
      "outputs": [
        {
          "output_type": "stream",
          "name": "stdout",
          "text": [
            "[nltk_data] Downloading package stopwords to /root/nltk_data...\n",
            "[nltk_data]   Package stopwords is already up-to-date!\n"
          ]
        },
        {
          "output_type": "execute_result",
          "data": {
            "text/plain": [
              "['i',\n",
              " 'me',\n",
              " 'my',\n",
              " 'myself',\n",
              " 'we',\n",
              " 'our',\n",
              " 'ours',\n",
              " 'ourselves',\n",
              " 'you',\n",
              " \"you're\",\n",
              " \"you've\",\n",
              " \"you'll\",\n",
              " \"you'd\",\n",
              " 'your',\n",
              " 'yours',\n",
              " 'yourself',\n",
              " 'yourselves',\n",
              " 'he',\n",
              " 'him',\n",
              " 'his',\n",
              " 'himself',\n",
              " 'she',\n",
              " \"she's\",\n",
              " 'her',\n",
              " 'hers',\n",
              " 'herself',\n",
              " 'it',\n",
              " \"it's\",\n",
              " 'its',\n",
              " 'itself',\n",
              " 'they',\n",
              " 'them',\n",
              " 'their',\n",
              " 'theirs',\n",
              " 'themselves',\n",
              " 'what',\n",
              " 'which',\n",
              " 'who',\n",
              " 'whom',\n",
              " 'this',\n",
              " 'that',\n",
              " \"that'll\",\n",
              " 'these',\n",
              " 'those',\n",
              " 'am',\n",
              " 'is',\n",
              " 'are',\n",
              " 'was',\n",
              " 'were',\n",
              " 'be',\n",
              " 'been',\n",
              " 'being',\n",
              " 'have',\n",
              " 'has',\n",
              " 'had',\n",
              " 'having',\n",
              " 'do',\n",
              " 'does',\n",
              " 'did',\n",
              " 'doing',\n",
              " 'a',\n",
              " 'an',\n",
              " 'the',\n",
              " 'and',\n",
              " 'but',\n",
              " 'if',\n",
              " 'or',\n",
              " 'because',\n",
              " 'as',\n",
              " 'until',\n",
              " 'while',\n",
              " 'of',\n",
              " 'at',\n",
              " 'by',\n",
              " 'for',\n",
              " 'with',\n",
              " 'about',\n",
              " 'against',\n",
              " 'between',\n",
              " 'into',\n",
              " 'through',\n",
              " 'during',\n",
              " 'before',\n",
              " 'after',\n",
              " 'above',\n",
              " 'below',\n",
              " 'to',\n",
              " 'from',\n",
              " 'up',\n",
              " 'down',\n",
              " 'in',\n",
              " 'out',\n",
              " 'on',\n",
              " 'off',\n",
              " 'over',\n",
              " 'under',\n",
              " 'again',\n",
              " 'further',\n",
              " 'then',\n",
              " 'once',\n",
              " 'here',\n",
              " 'there',\n",
              " 'when',\n",
              " 'where',\n",
              " 'why',\n",
              " 'how',\n",
              " 'all',\n",
              " 'any',\n",
              " 'both',\n",
              " 'each',\n",
              " 'few',\n",
              " 'more',\n",
              " 'most',\n",
              " 'other',\n",
              " 'some',\n",
              " 'such',\n",
              " 'no',\n",
              " 'nor',\n",
              " 'not',\n",
              " 'only',\n",
              " 'own',\n",
              " 'same',\n",
              " 'so',\n",
              " 'than',\n",
              " 'too',\n",
              " 'very',\n",
              " 's',\n",
              " 't',\n",
              " 'can',\n",
              " 'will',\n",
              " 'just',\n",
              " 'don',\n",
              " \"don't\",\n",
              " 'should',\n",
              " \"should've\",\n",
              " 'now',\n",
              " 'd',\n",
              " 'll',\n",
              " 'm',\n",
              " 'o',\n",
              " 're',\n",
              " 've',\n",
              " 'y',\n",
              " 'ain',\n",
              " 'aren',\n",
              " \"aren't\",\n",
              " 'couldn',\n",
              " \"couldn't\",\n",
              " 'didn',\n",
              " \"didn't\",\n",
              " 'doesn',\n",
              " \"doesn't\",\n",
              " 'hadn',\n",
              " \"hadn't\",\n",
              " 'hasn',\n",
              " \"hasn't\",\n",
              " 'haven',\n",
              " \"haven't\",\n",
              " 'isn',\n",
              " \"isn't\",\n",
              " 'ma',\n",
              " 'mightn',\n",
              " \"mightn't\",\n",
              " 'mustn',\n",
              " \"mustn't\",\n",
              " 'needn',\n",
              " \"needn't\",\n",
              " 'shan',\n",
              " \"shan't\",\n",
              " 'shouldn',\n",
              " \"shouldn't\",\n",
              " 'wasn',\n",
              " \"wasn't\",\n",
              " 'weren',\n",
              " \"weren't\",\n",
              " 'won',\n",
              " \"won't\",\n",
              " 'wouldn',\n",
              " \"wouldn't\"]"
            ]
          },
          "metadata": {},
          "execution_count": 118
        }
      ]
    },
    {
      "cell_type": "markdown",
      "metadata": {
        "id": "OmwXTL0UA5aw"
      },
      "source": [
        "### Collocation, Concordance   (어떤 두 단어의 연쇄를 봄/ 예문 검색)"
      ]
    },
    {
      "cell_type": "code",
      "metadata": {
        "id": "Fll4ygxNA3OJ",
        "outputId": "33204842-f69d-4d41-bfd2-fbbff3a7d074",
        "colab": {
          "base_uri": "https://localhost:8080/"
        }
      },
      "source": [
        "nltk.download('gutenberg')\n",
        "text = nltk.corpus.gutenberg.raw('austen-emma.txt')\n",
        "words = retokenize.tokenize(text)   # retokenize(regularexpression tokenize라고 앞에서 이미 만듦)(앞에서 안 만들었으면 다시 만들어야)"
      ],
      "execution_count": 119,
      "outputs": [
        {
          "output_type": "stream",
          "name": "stdout",
          "text": [
            "[nltk_data] Downloading package gutenberg to /root/nltk_data...\n",
            "[nltk_data]   Package gutenberg is already up-to-date!\n"
          ]
        }
      ]
    },
    {
      "cell_type": "code",
      "source": [
        "text\n",
        "len(text)\n",
        "words"
      ],
      "metadata": {
        "id": "GMGjY6C1C8fM",
        "outputId": "56fd77c4-25c6-45e4-edab-3ab0abac4368",
        "colab": {
          "base_uri": "https://localhost:8080/"
        }
      },
      "execution_count": 120,
      "outputs": [
        {
          "output_type": "execute_result",
          "data": {
            "text/plain": [
              "['Emma',\n",
              " 'by',\n",
              " 'Jane',\n",
              " 'Austen',\n",
              " '1816',\n",
              " 'VOLUME',\n",
              " 'I',\n",
              " 'CHAPTER',\n",
              " 'I',\n",
              " 'Emma',\n",
              " 'Woodhouse',\n",
              " 'handsome',\n",
              " 'clever',\n",
              " 'and',\n",
              " 'rich',\n",
              " 'with',\n",
              " 'a',\n",
              " 'comfortable',\n",
              " 'home',\n",
              " 'and',\n",
              " 'happy',\n",
              " 'disposition',\n",
              " 'seemed',\n",
              " 'to',\n",
              " 'unite',\n",
              " 'some',\n",
              " 'of',\n",
              " 'the',\n",
              " 'best',\n",
              " 'blessings',\n",
              " 'of',\n",
              " 'existence',\n",
              " 'and',\n",
              " 'had',\n",
              " 'lived',\n",
              " 'nearly',\n",
              " 'twenty',\n",
              " 'one',\n",
              " 'years',\n",
              " 'in',\n",
              " 'the',\n",
              " 'world',\n",
              " 'with',\n",
              " 'very',\n",
              " 'little',\n",
              " 'to',\n",
              " 'distress',\n",
              " 'or',\n",
              " 'vex',\n",
              " 'her',\n",
              " 'She',\n",
              " 'was',\n",
              " 'the',\n",
              " 'youngest',\n",
              " 'of',\n",
              " 'the',\n",
              " 'two',\n",
              " 'daughters',\n",
              " 'of',\n",
              " 'a',\n",
              " 'most',\n",
              " 'affectionate',\n",
              " 'indulgent',\n",
              " 'father',\n",
              " 'and',\n",
              " 'had',\n",
              " 'in',\n",
              " 'consequence',\n",
              " 'of',\n",
              " 'her',\n",
              " 'sister',\n",
              " 's',\n",
              " 'marriage',\n",
              " 'been',\n",
              " 'mistress',\n",
              " 'of',\n",
              " 'his',\n",
              " 'house',\n",
              " 'from',\n",
              " 'a',\n",
              " 'very',\n",
              " 'early',\n",
              " 'period',\n",
              " 'Her',\n",
              " 'mother',\n",
              " 'had',\n",
              " 'died',\n",
              " 'too',\n",
              " 'long',\n",
              " 'ago',\n",
              " 'for',\n",
              " 'her',\n",
              " 'to',\n",
              " 'have',\n",
              " 'more',\n",
              " 'than',\n",
              " 'an',\n",
              " 'indistinct',\n",
              " 'remembrance',\n",
              " 'of',\n",
              " 'her',\n",
              " 'caresses',\n",
              " 'and',\n",
              " 'her',\n",
              " 'place',\n",
              " 'had',\n",
              " 'been',\n",
              " 'supplied',\n",
              " 'by',\n",
              " 'an',\n",
              " 'excellent',\n",
              " 'woman',\n",
              " 'as',\n",
              " 'governess',\n",
              " 'who',\n",
              " 'had',\n",
              " 'fallen',\n",
              " 'little',\n",
              " 'short',\n",
              " 'of',\n",
              " 'a',\n",
              " 'mother',\n",
              " 'in',\n",
              " 'affection',\n",
              " 'Sixteen',\n",
              " 'years',\n",
              " 'had',\n",
              " 'Miss',\n",
              " 'Taylor',\n",
              " 'been',\n",
              " 'in',\n",
              " 'Mr',\n",
              " 'Woodhouse',\n",
              " 's',\n",
              " 'family',\n",
              " 'less',\n",
              " 'as',\n",
              " 'a',\n",
              " 'governess',\n",
              " 'than',\n",
              " 'a',\n",
              " 'friend',\n",
              " 'very',\n",
              " 'fond',\n",
              " 'of',\n",
              " 'both',\n",
              " 'daughters',\n",
              " 'but',\n",
              " 'particularly',\n",
              " 'of',\n",
              " 'Emma',\n",
              " 'Between',\n",
              " '_them_',\n",
              " 'it',\n",
              " 'was',\n",
              " 'more',\n",
              " 'the',\n",
              " 'intimacy',\n",
              " 'of',\n",
              " 'sisters',\n",
              " 'Even',\n",
              " 'before',\n",
              " 'Miss',\n",
              " 'Taylor',\n",
              " 'had',\n",
              " 'ceased',\n",
              " 'to',\n",
              " 'hold',\n",
              " 'the',\n",
              " 'nominal',\n",
              " 'office',\n",
              " 'of',\n",
              " 'governess',\n",
              " 'the',\n",
              " 'mildness',\n",
              " 'of',\n",
              " 'her',\n",
              " 'temper',\n",
              " 'had',\n",
              " 'hardly',\n",
              " 'allowed',\n",
              " 'her',\n",
              " 'to',\n",
              " 'impose',\n",
              " 'any',\n",
              " 'restraint',\n",
              " 'and',\n",
              " 'the',\n",
              " 'shadow',\n",
              " 'of',\n",
              " 'authority',\n",
              " 'being',\n",
              " 'now',\n",
              " 'long',\n",
              " 'passed',\n",
              " 'away',\n",
              " 'they',\n",
              " 'had',\n",
              " 'been',\n",
              " 'living',\n",
              " 'together',\n",
              " 'as',\n",
              " 'friend',\n",
              " 'and',\n",
              " 'friend',\n",
              " 'very',\n",
              " 'mutually',\n",
              " 'attached',\n",
              " 'and',\n",
              " 'Emma',\n",
              " 'doing',\n",
              " 'just',\n",
              " 'what',\n",
              " 'she',\n",
              " 'liked',\n",
              " 'highly',\n",
              " 'esteeming',\n",
              " 'Miss',\n",
              " 'Taylor',\n",
              " 's',\n",
              " 'judgment',\n",
              " 'but',\n",
              " 'directed',\n",
              " 'chiefly',\n",
              " 'by',\n",
              " 'her',\n",
              " 'own',\n",
              " 'The',\n",
              " 'real',\n",
              " 'evils',\n",
              " 'indeed',\n",
              " 'of',\n",
              " 'Emma',\n",
              " 's',\n",
              " 'situation',\n",
              " 'were',\n",
              " 'the',\n",
              " 'power',\n",
              " 'of',\n",
              " 'having',\n",
              " 'rather',\n",
              " 'too',\n",
              " 'much',\n",
              " 'her',\n",
              " 'own',\n",
              " 'way',\n",
              " 'and',\n",
              " 'a',\n",
              " 'disposition',\n",
              " 'to',\n",
              " 'think',\n",
              " 'a',\n",
              " 'little',\n",
              " 'too',\n",
              " 'well',\n",
              " 'of',\n",
              " 'herself',\n",
              " 'these',\n",
              " 'were',\n",
              " 'the',\n",
              " 'disadvantages',\n",
              " 'which',\n",
              " 'threatened',\n",
              " 'alloy',\n",
              " 'to',\n",
              " 'her',\n",
              " 'many',\n",
              " 'enjoyments',\n",
              " 'The',\n",
              " 'danger',\n",
              " 'however',\n",
              " 'was',\n",
              " 'at',\n",
              " 'present',\n",
              " 'so',\n",
              " 'unperceived',\n",
              " 'that',\n",
              " 'they',\n",
              " 'did',\n",
              " 'not',\n",
              " 'by',\n",
              " 'any',\n",
              " 'means',\n",
              " 'rank',\n",
              " 'as',\n",
              " 'misfortunes',\n",
              " 'with',\n",
              " 'her',\n",
              " 'Sorrow',\n",
              " 'came',\n",
              " 'a',\n",
              " 'gentle',\n",
              " 'sorrow',\n",
              " 'but',\n",
              " 'not',\n",
              " 'at',\n",
              " 'all',\n",
              " 'in',\n",
              " 'the',\n",
              " 'shape',\n",
              " 'of',\n",
              " 'any',\n",
              " 'disagreeable',\n",
              " 'consciousness',\n",
              " 'Miss',\n",
              " 'Taylor',\n",
              " 'married',\n",
              " 'It',\n",
              " 'was',\n",
              " 'Miss',\n",
              " 'Taylor',\n",
              " 's',\n",
              " 'loss',\n",
              " 'which',\n",
              " 'first',\n",
              " 'brought',\n",
              " 'grief',\n",
              " 'It',\n",
              " 'was',\n",
              " 'on',\n",
              " 'the',\n",
              " 'wedding',\n",
              " 'day',\n",
              " 'of',\n",
              " 'this',\n",
              " 'beloved',\n",
              " 'friend',\n",
              " 'that',\n",
              " 'Emma',\n",
              " 'first',\n",
              " 'sat',\n",
              " 'in',\n",
              " 'mournful',\n",
              " 'thought',\n",
              " 'of',\n",
              " 'any',\n",
              " 'continuance',\n",
              " 'The',\n",
              " 'wedding',\n",
              " 'over',\n",
              " 'and',\n",
              " 'the',\n",
              " 'bride',\n",
              " 'people',\n",
              " 'gone',\n",
              " 'her',\n",
              " 'father',\n",
              " 'and',\n",
              " 'herself',\n",
              " 'were',\n",
              " 'left',\n",
              " 'to',\n",
              " 'dine',\n",
              " 'together',\n",
              " 'with',\n",
              " 'no',\n",
              " 'prospect',\n",
              " 'of',\n",
              " 'a',\n",
              " 'third',\n",
              " 'to',\n",
              " 'cheer',\n",
              " 'a',\n",
              " 'long',\n",
              " 'evening',\n",
              " 'Her',\n",
              " 'father',\n",
              " 'composed',\n",
              " 'himself',\n",
              " 'to',\n",
              " 'sleep',\n",
              " 'after',\n",
              " 'dinner',\n",
              " 'as',\n",
              " 'usual',\n",
              " 'and',\n",
              " 'she',\n",
              " 'had',\n",
              " 'then',\n",
              " 'only',\n",
              " 'to',\n",
              " 'sit',\n",
              " 'and',\n",
              " 'think',\n",
              " 'of',\n",
              " 'what',\n",
              " 'she',\n",
              " 'had',\n",
              " 'lost',\n",
              " 'The',\n",
              " 'event',\n",
              " 'had',\n",
              " 'every',\n",
              " 'promise',\n",
              " 'of',\n",
              " 'happiness',\n",
              " 'for',\n",
              " 'her',\n",
              " 'friend',\n",
              " 'Mr',\n",
              " 'Weston',\n",
              " 'was',\n",
              " 'a',\n",
              " 'man',\n",
              " 'of',\n",
              " 'unexceptionable',\n",
              " 'character',\n",
              " 'easy',\n",
              " 'fortune',\n",
              " 'suitable',\n",
              " 'age',\n",
              " 'and',\n",
              " 'pleasant',\n",
              " 'manners',\n",
              " 'and',\n",
              " 'there',\n",
              " 'was',\n",
              " 'some',\n",
              " 'satisfaction',\n",
              " 'in',\n",
              " 'considering',\n",
              " 'with',\n",
              " 'what',\n",
              " 'self',\n",
              " 'denying',\n",
              " 'generous',\n",
              " 'friendship',\n",
              " 'she',\n",
              " 'had',\n",
              " 'always',\n",
              " 'wished',\n",
              " 'and',\n",
              " 'promoted',\n",
              " 'the',\n",
              " 'match',\n",
              " 'but',\n",
              " 'it',\n",
              " 'was',\n",
              " 'a',\n",
              " 'black',\n",
              " 'morning',\n",
              " 's',\n",
              " 'work',\n",
              " 'for',\n",
              " 'her',\n",
              " 'The',\n",
              " 'want',\n",
              " 'of',\n",
              " 'Miss',\n",
              " 'Taylor',\n",
              " 'would',\n",
              " 'be',\n",
              " 'felt',\n",
              " 'every',\n",
              " 'hour',\n",
              " 'of',\n",
              " 'every',\n",
              " 'day',\n",
              " 'She',\n",
              " 'recalled',\n",
              " 'her',\n",
              " 'past',\n",
              " 'kindness',\n",
              " 'the',\n",
              " 'kindness',\n",
              " 'the',\n",
              " 'affection',\n",
              " 'of',\n",
              " 'sixteen',\n",
              " 'years',\n",
              " 'how',\n",
              " 'she',\n",
              " 'had',\n",
              " 'taught',\n",
              " 'and',\n",
              " 'how',\n",
              " 'she',\n",
              " 'had',\n",
              " 'played',\n",
              " 'with',\n",
              " 'her',\n",
              " 'from',\n",
              " 'five',\n",
              " 'years',\n",
              " 'old',\n",
              " 'how',\n",
              " 'she',\n",
              " 'had',\n",
              " 'devoted',\n",
              " 'all',\n",
              " 'her',\n",
              " 'powers',\n",
              " 'to',\n",
              " 'attach',\n",
              " 'and',\n",
              " 'amuse',\n",
              " 'her',\n",
              " 'in',\n",
              " 'health',\n",
              " 'and',\n",
              " 'how',\n",
              " 'nursed',\n",
              " 'her',\n",
              " 'through',\n",
              " 'the',\n",
              " 'various',\n",
              " 'illnesses',\n",
              " 'of',\n",
              " 'childhood',\n",
              " 'A',\n",
              " 'large',\n",
              " 'debt',\n",
              " 'of',\n",
              " 'gratitude',\n",
              " 'was',\n",
              " 'owing',\n",
              " 'here',\n",
              " 'but',\n",
              " 'the',\n",
              " 'intercourse',\n",
              " 'of',\n",
              " 'the',\n",
              " 'last',\n",
              " 'seven',\n",
              " 'years',\n",
              " 'the',\n",
              " 'equal',\n",
              " 'footing',\n",
              " 'and',\n",
              " 'perfect',\n",
              " 'unreserve',\n",
              " 'which',\n",
              " 'had',\n",
              " 'soon',\n",
              " 'followed',\n",
              " 'Isabella',\n",
              " 's',\n",
              " 'marriage',\n",
              " 'on',\n",
              " 'their',\n",
              " 'being',\n",
              " 'left',\n",
              " 'to',\n",
              " 'each',\n",
              " 'other',\n",
              " 'was',\n",
              " 'yet',\n",
              " 'a',\n",
              " 'dearer',\n",
              " 'tenderer',\n",
              " 'recollection',\n",
              " 'She',\n",
              " 'had',\n",
              " 'been',\n",
              " 'a',\n",
              " 'friend',\n",
              " 'and',\n",
              " 'companion',\n",
              " 'such',\n",
              " 'as',\n",
              " 'few',\n",
              " 'possessed',\n",
              " 'intelligent',\n",
              " 'well',\n",
              " 'informed',\n",
              " 'useful',\n",
              " 'gentle',\n",
              " 'knowing',\n",
              " 'all',\n",
              " 'the',\n",
              " 'ways',\n",
              " 'of',\n",
              " 'the',\n",
              " 'family',\n",
              " 'interested',\n",
              " 'in',\n",
              " 'all',\n",
              " 'its',\n",
              " 'concerns',\n",
              " 'and',\n",
              " 'peculiarly',\n",
              " 'interested',\n",
              " 'in',\n",
              " 'herself',\n",
              " 'in',\n",
              " 'every',\n",
              " 'pleasure',\n",
              " 'every',\n",
              " 'scheme',\n",
              " 'of',\n",
              " 'hers',\n",
              " 'one',\n",
              " 'to',\n",
              " 'whom',\n",
              " 'she',\n",
              " 'could',\n",
              " 'speak',\n",
              " 'every',\n",
              " 'thought',\n",
              " 'as',\n",
              " 'it',\n",
              " 'arose',\n",
              " 'and',\n",
              " 'who',\n",
              " 'had',\n",
              " 'such',\n",
              " 'an',\n",
              " 'affection',\n",
              " 'for',\n",
              " 'her',\n",
              " 'as',\n",
              " 'could',\n",
              " 'never',\n",
              " 'find',\n",
              " 'fault',\n",
              " 'How',\n",
              " 'was',\n",
              " 'she',\n",
              " 'to',\n",
              " 'bear',\n",
              " 'the',\n",
              " 'change',\n",
              " 'It',\n",
              " 'was',\n",
              " 'true',\n",
              " 'that',\n",
              " 'her',\n",
              " 'friend',\n",
              " 'was',\n",
              " 'going',\n",
              " 'only',\n",
              " 'half',\n",
              " 'a',\n",
              " 'mile',\n",
              " 'from',\n",
              " 'them',\n",
              " 'but',\n",
              " 'Emma',\n",
              " 'was',\n",
              " 'aware',\n",
              " 'that',\n",
              " 'great',\n",
              " 'must',\n",
              " 'be',\n",
              " 'the',\n",
              " 'difference',\n",
              " 'between',\n",
              " 'a',\n",
              " 'Mrs',\n",
              " 'Weston',\n",
              " 'only',\n",
              " 'half',\n",
              " 'a',\n",
              " 'mile',\n",
              " 'from',\n",
              " 'them',\n",
              " 'and',\n",
              " 'a',\n",
              " 'Miss',\n",
              " 'Taylor',\n",
              " 'in',\n",
              " 'the',\n",
              " 'house',\n",
              " 'and',\n",
              " 'with',\n",
              " 'all',\n",
              " 'her',\n",
              " 'advantages',\n",
              " 'natural',\n",
              " 'and',\n",
              " 'domestic',\n",
              " 'she',\n",
              " 'was',\n",
              " 'now',\n",
              " 'in',\n",
              " 'great',\n",
              " 'danger',\n",
              " 'of',\n",
              " 'suffering',\n",
              " 'from',\n",
              " 'intellectual',\n",
              " 'solitude',\n",
              " 'She',\n",
              " 'dearly',\n",
              " 'loved',\n",
              " 'her',\n",
              " 'father',\n",
              " 'but',\n",
              " 'he',\n",
              " 'was',\n",
              " 'no',\n",
              " 'companion',\n",
              " 'for',\n",
              " 'her',\n",
              " 'He',\n",
              " 'could',\n",
              " 'not',\n",
              " 'meet',\n",
              " 'her',\n",
              " 'in',\n",
              " 'conversation',\n",
              " 'rational',\n",
              " 'or',\n",
              " 'playful',\n",
              " 'The',\n",
              " 'evil',\n",
              " 'of',\n",
              " 'the',\n",
              " 'actual',\n",
              " 'disparity',\n",
              " 'in',\n",
              " 'their',\n",
              " 'ages',\n",
              " 'and',\n",
              " 'Mr',\n",
              " 'Woodhouse',\n",
              " 'had',\n",
              " 'not',\n",
              " 'married',\n",
              " 'early',\n",
              " 'was',\n",
              " 'much',\n",
              " 'increased',\n",
              " 'by',\n",
              " 'his',\n",
              " 'constitution',\n",
              " 'and',\n",
              " 'habits',\n",
              " 'for',\n",
              " 'having',\n",
              " 'been',\n",
              " 'a',\n",
              " 'valetudinarian',\n",
              " 'all',\n",
              " 'his',\n",
              " 'life',\n",
              " 'without',\n",
              " 'activity',\n",
              " 'of',\n",
              " 'mind',\n",
              " 'or',\n",
              " 'body',\n",
              " 'he',\n",
              " 'was',\n",
              " 'a',\n",
              " 'much',\n",
              " 'older',\n",
              " 'man',\n",
              " 'in',\n",
              " 'ways',\n",
              " 'than',\n",
              " 'in',\n",
              " 'years',\n",
              " 'and',\n",
              " 'though',\n",
              " 'everywhere',\n",
              " 'beloved',\n",
              " 'for',\n",
              " 'the',\n",
              " 'friendliness',\n",
              " 'of',\n",
              " 'his',\n",
              " 'heart',\n",
              " 'and',\n",
              " 'his',\n",
              " 'amiable',\n",
              " 'temper',\n",
              " 'his',\n",
              " 'talents',\n",
              " 'could',\n",
              " 'not',\n",
              " 'have',\n",
              " 'recommended',\n",
              " 'him',\n",
              " 'at',\n",
              " 'any',\n",
              " 'time',\n",
              " 'Her',\n",
              " 'sister',\n",
              " 'though',\n",
              " 'comparatively',\n",
              " 'but',\n",
              " 'little',\n",
              " 'removed',\n",
              " 'by',\n",
              " 'matrimony',\n",
              " 'being',\n",
              " 'settled',\n",
              " 'in',\n",
              " 'London',\n",
              " 'only',\n",
              " 'sixteen',\n",
              " 'miles',\n",
              " 'off',\n",
              " 'was',\n",
              " 'much',\n",
              " 'beyond',\n",
              " 'her',\n",
              " 'daily',\n",
              " 'reach',\n",
              " 'and',\n",
              " 'many',\n",
              " 'a',\n",
              " 'long',\n",
              " 'October',\n",
              " 'and',\n",
              " 'November',\n",
              " 'evening',\n",
              " 'must',\n",
              " 'be',\n",
              " 'struggled',\n",
              " 'through',\n",
              " 'at',\n",
              " 'Hartfield',\n",
              " 'before',\n",
              " 'Christmas',\n",
              " 'brought',\n",
              " 'the',\n",
              " 'next',\n",
              " 'visit',\n",
              " 'from',\n",
              " 'Isabella',\n",
              " 'and',\n",
              " 'her',\n",
              " 'husband',\n",
              " 'and',\n",
              " 'their',\n",
              " 'little',\n",
              " 'children',\n",
              " 'to',\n",
              " 'fill',\n",
              " 'the',\n",
              " 'house',\n",
              " 'and',\n",
              " 'give',\n",
              " 'her',\n",
              " 'pleasant',\n",
              " 'society',\n",
              " 'again',\n",
              " 'Highbury',\n",
              " 'the',\n",
              " 'large',\n",
              " 'and',\n",
              " 'populous',\n",
              " 'village',\n",
              " 'almost',\n",
              " 'amounting',\n",
              " 'to',\n",
              " 'a',\n",
              " 'town',\n",
              " 'to',\n",
              " 'which',\n",
              " 'Hartfield',\n",
              " 'in',\n",
              " 'spite',\n",
              " 'of',\n",
              " 'its',\n",
              " 'separate',\n",
              " 'lawn',\n",
              " 'and',\n",
              " 'shrubberies',\n",
              " 'and',\n",
              " 'name',\n",
              " 'did',\n",
              " 'really',\n",
              " 'belong',\n",
              " 'afforded',\n",
              " 'her',\n",
              " 'no',\n",
              " 'equals',\n",
              " 'The',\n",
              " 'Woodhouses',\n",
              " 'were',\n",
              " 'first',\n",
              " 'in',\n",
              " 'consequence',\n",
              " 'there',\n",
              " 'All',\n",
              " 'looked',\n",
              " 'up',\n",
              " 'to',\n",
              " 'them',\n",
              " 'She',\n",
              " 'had',\n",
              " 'many',\n",
              " 'acquaintance',\n",
              " 'in',\n",
              " 'the',\n",
              " 'place',\n",
              " 'for',\n",
              " 'her',\n",
              " 'father',\n",
              " 'was',\n",
              " 'universally',\n",
              " 'civil',\n",
              " 'but',\n",
              " 'not',\n",
              " 'one',\n",
              " 'among',\n",
              " 'them',\n",
              " 'who',\n",
              " 'could',\n",
              " 'be',\n",
              " 'accepted',\n",
              " 'in',\n",
              " 'lieu',\n",
              " 'of',\n",
              " 'Miss',\n",
              " 'Taylor',\n",
              " 'for',\n",
              " 'even',\n",
              " 'half',\n",
              " 'a',\n",
              " 'day',\n",
              " 'It',\n",
              " 'was',\n",
              " 'a',\n",
              " 'melancholy',\n",
              " 'change',\n",
              " 'and',\n",
              " 'Emma',\n",
              " 'could',\n",
              " 'not',\n",
              " 'but',\n",
              " 'sigh',\n",
              " 'over',\n",
              " 'it',\n",
              " 'and',\n",
              " 'wish',\n",
              " 'for',\n",
              " 'impossible',\n",
              " 'things',\n",
              " 'till',\n",
              " 'her',\n",
              " 'father',\n",
              " 'awoke',\n",
              " 'and',\n",
              " 'made',\n",
              " 'it',\n",
              " 'necessary',\n",
              " 'to',\n",
              " 'be',\n",
              " 'cheerful',\n",
              " 'His',\n",
              " 'spirits',\n",
              " 'required',\n",
              " 'support',\n",
              " 'He',\n",
              " 'was',\n",
              " 'a',\n",
              " 'nervous',\n",
              " 'man',\n",
              " 'easily',\n",
              " 'depressed',\n",
              " 'fond',\n",
              " 'of',\n",
              " 'every',\n",
              " 'body',\n",
              " 'that',\n",
              " 'he',\n",
              " 'was',\n",
              " 'used',\n",
              " 'to',\n",
              " 'and',\n",
              " 'hating',\n",
              " 'to',\n",
              " 'part',\n",
              " 'with',\n",
              " 'them',\n",
              " 'hating',\n",
              " 'change',\n",
              " 'of',\n",
              " 'every',\n",
              " 'kind',\n",
              " 'Matrimony',\n",
              " 'as',\n",
              " 'the',\n",
              " 'origin',\n",
              " 'of',\n",
              " 'change',\n",
              " 'was',\n",
              " 'always',\n",
              " 'disagreeable',\n",
              " 'and',\n",
              " 'he',\n",
              " 'was',\n",
              " 'by',\n",
              " 'no',\n",
              " 'means',\n",
              " 'yet',\n",
              " 'reconciled',\n",
              " 'to',\n",
              " 'his',\n",
              " 'own',\n",
              " 'daughter',\n",
              " 's',\n",
              " 'marrying',\n",
              " 'nor',\n",
              " 'could',\n",
              " 'ever',\n",
              " ...]"
            ]
          },
          "metadata": {},
          "execution_count": 120
        }
      ]
    },
    {
      "cell_type": "code",
      "metadata": {
        "id": "NqVXlhIrAtmf",
        "outputId": "07709696-ad1d-4feb-8b8f-a77f25aa5706",
        "colab": {
          "base_uri": "https://localhost:8080/"
        }
      },
      "source": [
        "nltk.Text(words).collocations()   # 자주 일어나는 두 단어"
      ],
      "execution_count": 121,
      "outputs": [
        {
          "output_type": "stream",
          "name": "stdout",
          "text": [
            "Mrs Weston; Frank Churchill; Miss Woodhouse; Mrs Elton; Miss Bates;\n",
            "Jane Fairfax; Miss Fairfax; every thing; young man; every body; great\n",
            "deal; Mrs Goddard; dare say; Maple Grove; John Knightley; Miss Taylor;\n",
            "Miss Smith; Robert Martin; Colonel Campbell; Box Hill\n"
          ]
        }
      ]
    },
    {
      "cell_type": "code",
      "metadata": {
        "id": "Aq0wiutwA_au",
        "outputId": "53e5a222-a699-483e-9f47-9c2131f75811",
        "colab": {
          "base_uri": "https://localhost:8080/"
        }
      },
      "source": [
        "nltk.Text(words).concordance('Emma', 79, 10) "
      ],
      "execution_count": 122,
      "outputs": [
        {
          "output_type": "stream",
          "name": "stdout",
          "text": [
            "Displaying 10 of 865 matches:\n",
            "                                     Emma by Jane Austen 1816 VOLUME I CHAPTER\n",
            "                                     Emma Woodhouse handsome clever and rich w\n",
            "f both daughters but particularly of Emma Between _them_ it was more the intim\n",
            "nd friend very mutually attached and Emma doing just what she liked highly est\n",
            " by her own The real evils indeed of Emma s situation were the power of having\n",
            "ding day of this beloved friend that Emma first sat in mournful thought of any\n",
            "going only half a mile from them but Emma was aware that great must be the dif\n",
            "a day It was a melancholy change and Emma could not but sigh over it and wish \n",
            "ll the rest of her life at Hartfield Emma smiled and chatted as cheerfully as \n",
            "l be able to tell her how we all are Emma spared no exertions to maintain this\n"
          ]
        }
      ]
    },
    {
      "cell_type": "code",
      "metadata": {
        "id": "hIAIhXvP_BjU",
        "colab": {
          "base_uri": "https://localhost:8080/",
          "height": 295
        },
        "outputId": "92fa6427-ce20-4ae6-c59e-7b4b08099390"
      },
      "source": [
        "nltk.Text(words).dispersion_plot([\"Emma\", \"Knightley\", \"Frank\", \"Jane\", \"Harriet\", \"Robert\"])   #어떤 단어든 상관 없음(ex. he, she,...)\n",
        "# dispersion: 얼마나 퍼져 있는가?\n",
        "# 0부터 19만(x축) 까지 인덱스 중에 얼마나 나오는가\n",
        "# 주인공이 누구인지 알 수 있음"
      ],
      "execution_count": 123,
      "outputs": [
        {
          "output_type": "display_data",
          "data": {
            "image/png": "[encoded data removed]",
            "text/plain": [
              "<Figure size 432x288 with 1 Axes>"
            ]
          },
          "metadata": {
            "needs_background": "light"
          }
        }
      ]
    },
    {
      "cell_type": "code",
      "metadata": {
        "id": "lWYZOFxq_ex2",
        "colab": {
          "base_uri": "https://localhost:8080/"
        },
        "outputId": "fb4dc916-ca20-4a88-8cb0-da49e0717657"
      },
      "source": [
        "nltk.Text(words).similar(\"Emma\")    # Emma와 비슷하게 쓰이는 단어들"
      ],
      "execution_count": 124,
      "outputs": [
        {
          "output_type": "stream",
          "name": "stdout",
          "text": [
            "she it he i harriet you her jane him that me and all they them herself\n",
            "there but be isabella\n"
          ]
        }
      ]
    },
    {
      "cell_type": "code",
      "metadata": {
        "id": "ZihiVSBK_vy7",
        "colab": {
          "base_uri": "https://localhost:8080/"
        },
        "outputId": "039965ef-fb9f-419f-e6da-5351891254bd"
      },
      "source": [
        "nltk.Text(words).common_contexts([\"Emma\", \"she\"])   # common한 context(Emma와 she가 비슷한 context에서 나오면)\n",
        "# ex. but she was/ but emma was"
      ],
      "execution_count": 125,
      "outputs": [
        {
          "output_type": "stream",
          "name": "stdout",
          "text": [
            "but_was and_could that_should said_and which_could whom_knew\n",
            "which_particularly and_imagined that_could said_i that_began\n",
            "and_thought do_was but_could than_had said_but manner_was this_could\n",
            "as_saw possible_could\n"
          ]
        }
      ]
    },
    {
      "cell_type": "markdown",
      "metadata": {
        "id": "A8TrCE14vGcT"
      },
      "source": [
        "### Frequency distribution, Frequency plot   (단어의 빈도수 체크) "
      ]
    },
    {
      "cell_type": "code",
      "metadata": {
        "id": "UdY3m6zSBHic",
        "colab": {
          "base_uri": "https://localhost:8080/"
        },
        "outputId": "a0a9d5cd-381b-43ba-9aea-9743176491ad"
      },
      "source": [
        "fd = nltk.FreqDist(words).most_common(20)   #most_common(20)은 없어도 됨 But 등장하는 순서대로 나오고 너무 많음   # 코드를 짜서 stopwords로 배제시킬 수도 있음\n",
        "fd"
      ],
      "execution_count": 126,
      "outputs": [
        {
          "output_type": "execute_result",
          "data": {
            "text/plain": [
              "[('to', 5183),\n",
              " ('the', 4844),\n",
              " ('and', 4672),\n",
              " ('of', 4279),\n",
              " ('I', 3178),\n",
              " ('a', 3004),\n",
              " ('was', 2385),\n",
              " ('her', 2381),\n",
              " ('it', 2128),\n",
              " ('in', 2118),\n",
              " ('not', 2101),\n",
              " ('be', 1970),\n",
              " ('she', 1778),\n",
              " ('that', 1730),\n",
              " ('you', 1677),\n",
              " ('had', 1606),\n",
              " ('as', 1387),\n",
              " ('he', 1365),\n",
              " ('for', 1321),\n",
              " ('have', 1301)]"
            ]
          },
          "metadata": {},
          "execution_count": 126
        }
      ]
    },
    {
      "cell_type": "code",
      "metadata": {
        "id": "1tpZThNV-ftv",
        "colab": {
          "base_uri": "https://localhost:8080/",
          "height": 294
        },
        "outputId": "9b1b3742-9057-40e7-8c28-28bfce9fb767"
      },
      "source": [
        "nltk.Text(words).plot(20)   # 앞 셀과 같음 # 상위 20개"
      ],
      "execution_count": 127,
      "outputs": [
        {
          "output_type": "display_data",
          "data": {
            "image/png": "[encoded data removed]",
            "text/plain": [
              "<Figure size 432x288 with 1 Axes>"
            ]
          },
          "metadata": {
            "needs_background": "light"
          }
        }
      ]
    },
    {
      "cell_type": "code",
      "source": [
        "# 예문\n",
        "nltk.Text(words).plot(200)\n",
        "# like 로그 함수"
      ],
      "metadata": {
        "id": "c6yM1RPaFMOU",
        "outputId": "4794001f-4fd0-4180-b996-5edb7f6a12fc",
        "colab": {
          "base_uri": "https://localhost:8080/",
          "height": 327
        }
      },
      "execution_count": 128,
      "outputs": [
        {
          "output_type": "display_data",
          "data": {
            "image/png": "[encoded data removed]",
            "text/plain": [
              "<Figure size 432x288 with 1 Axes>"
            ]
          },
          "metadata": {
            "needs_background": "light"
          }
        }
      ]
    },
    {
      "cell_type": "markdown",
      "metadata": {
        "id": "JSOSzIovvKvE"
      },
      "source": [
        "### Dictionary   (말 그대로 dictionary)"
      ]
    },
    {
      "cell_type": "code",
      "metadata": {
        "id": "UIcAOAvqntce",
        "outputId": "1f67ca86-2c4c-42c6-e907-5fe0af3d1852",
        "colab": {
          "base_uri": "https://localhost:8080/"
        }
      },
      "source": [
        "nltk.download('words')    # 꼭 다운 받아야(안 하면 error)\n",
        "nltk.corpus.words.words('en')[-20:-1]   #nltk.corpus.words.words('en')자체가 list이기 때문에 바로 [-20:-1]을 붙여도 됨"
      ],
      "execution_count": 129,
      "outputs": [
        {
          "output_type": "stream",
          "name": "stdout",
          "text": [
            "[nltk_data] Downloading package words to /root/nltk_data...\n",
            "[nltk_data]   Package words is already up-to-date!\n"
          ]
        },
        {
          "output_type": "execute_result",
          "data": {
            "text/plain": [
              "['zymosis',\n",
              " 'zymosterol',\n",
              " 'zymosthenic',\n",
              " 'zymotechnic',\n",
              " 'zymotechnical',\n",
              " 'zymotechnics',\n",
              " 'zymotechny',\n",
              " 'zymotic',\n",
              " 'zymotically',\n",
              " 'zymotize',\n",
              " 'zymotoxic',\n",
              " 'zymurgy',\n",
              " 'Zyrenian',\n",
              " 'Zyrian',\n",
              " 'Zyryan',\n",
              " 'zythem',\n",
              " 'Zythia',\n",
              " 'zythum',\n",
              " 'Zyzomys']"
            ]
          },
          "metadata": {},
          "execution_count": 129
        }
      ]
    },
    {
      "cell_type": "code",
      "source": [
        "nltk.download('words')\n",
        "a = nltk.corpus.words.words('en')[-20:-1]\n",
        "type(a)\n",
        "print(type(a))\n",
        "len(a)\n",
        "print(len(a))   # 결과값 235886개의 표제어가 사용됨\n",
        "a[:20]    # 0부터 19까지\n",
        "a[-20:]   # 끝에서 부터 20번째\n",
        "a[-20:-1] # a[-20:]에서 제일 끝의 것 뺌"
      ],
      "metadata": {
        "id": "ripbCbBo41pP",
        "outputId": "ae932328-0db4-493d-98ba-9bfd57397da3",
        "colab": {
          "base_uri": "https://localhost:8080/"
        }
      },
      "execution_count": 130,
      "outputs": [
        {
          "output_type": "stream",
          "name": "stdout",
          "text": [
            "[nltk_data] Downloading package words to /root/nltk_data...\n",
            "[nltk_data]   Package words is already up-to-date!\n",
            "<class 'list'>\n",
            "19\n"
          ]
        },
        {
          "output_type": "execute_result",
          "data": {
            "text/plain": [
              "['zymosis',\n",
              " 'zymosterol',\n",
              " 'zymosthenic',\n",
              " 'zymotechnic',\n",
              " 'zymotechnical',\n",
              " 'zymotechnics',\n",
              " 'zymotechny',\n",
              " 'zymotic',\n",
              " 'zymotically',\n",
              " 'zymotize',\n",
              " 'zymotoxic',\n",
              " 'zymurgy',\n",
              " 'Zyrenian',\n",
              " 'Zyrian',\n",
              " 'Zyryan',\n",
              " 'zythem',\n",
              " 'Zythia',\n",
              " 'zythum']"
            ]
          },
          "metadata": {},
          "execution_count": 130
        }
      ]
    },
    {
      "cell_type": "code",
      "metadata": {
        "id": "GjAy_Ju7ntce",
        "outputId": "5caf4581-ab4b-49c6-90be-455f783e9591",
        "colab": {
          "base_uri": "https://localhost:8080/"
        }
      },
      "source": [
        "len(nltk.corpus.words.words('en'))"
      ],
      "execution_count": 131,
      "outputs": [
        {
          "output_type": "execute_result",
          "data": {
            "text/plain": [
              "235886"
            ]
          },
          "metadata": {},
          "execution_count": 131
        }
      ]
    },
    {
      "cell_type": "markdown",
      "metadata": {
        "id": "VrVGVc0X9j7r"
      },
      "source": [
        "### Regular expression   ('정규표현'-생각한 규칙을 텍스트에 적용)  (자연어/텍스트 처리의 기본) (한 str에 대해서)  (시험문제 많이 나올 것임)\n",
        "\n",
        "ex.\n",
        "\n",
        "단어 철자의 두 번째가 r이고 다섯 번째가 t인 것\n",
        "\n",
        "단어 모음이 2개인 것을 찾아라"
      ]
    },
    {
      "cell_type": "code",
      "metadata": {
        "id": "cQKgoQFI_cG-"
      },
      "source": [
        "import re"
      ],
      "execution_count": 132,
      "outputs": []
    },
    {
      "cell_type": "code",
      "metadata": {
        "id": "7U2pS-NL9p38",
        "outputId": "e8c1f70f-7a6a-47bb-8746-0d2e9c61eb23",
        "colab": {
          "base_uri": "https://localhost:8080/",
          "height": 148
        }
      },
      "source": [
        "'''       Basic Regular Expression Meta-Characters, Including Wildcards, Ranges and Closures\n",
        "\n",
        ".\t        Wildcard, matches any character\n",
        "^abc\t    Matches some pattern abc at the start of a string\n",
        "abc$\t    Matches some pattern abc at the end of a string\n",
        "[abc]\t    Matches one of a set of characters\n",
        "[^abc]    Matches anything but a set of characters\n",
        "[A-Z0-9]\tMatches one of a range of characters\n",
        "ed|ing|s\tMatches one of the specified strings (disjunction)\n",
        "*\t        Zero or more of previous item, e.g. a*, [a-z]* (also known as Kleene Closure)\n",
        "+\t        One or more of previous item, e.g. a+, [a-z]+\n",
        "?\t        Zero or one of the previous item (i.e. optional), e.g. a?, [a-z]?\n",
        "{n}\t      Exactly n repeats where n is a non-negative integer\n",
        "{n,}\t    At least n repeats\n",
        "{,n}\t    No more than n repeats\n",
        "{m,n}\t    At least m and no more than n repeats\n",
        "a(b|c)+\t  Parentheses that indicate the scope of the operators\n",
        "(...)     Matches whatever regular expression is inside the parentheses\n",
        "\\d\n",
        "Matches any decimal digit; this is equivalent to the class [0-9].\n",
        "\\D\n",
        "Matches any non-digit character; this is equivalent to the class [^0-9].\n",
        "\\s\n",
        "Matches any whitespace character; this is equivalent to the class [ \\t\\n\\r\\f\\v].\n",
        "\\S\n",
        "Matches any non-whitespace character; this is equivalent to the class [^ \\t\\n\\r\\f\\v].\n",
        "\\w\n",
        "Matches any alphanumeric character; this is equivalent to the class [a-zA-Z0-9_].\n",
        "\\W\n",
        "Matches any non-alphanumeric character; this is equivalent to the class [^a-zA-Z0-9_].\n",
        "\n",
        "'''"
      ],
      "execution_count": 133,
      "outputs": [
        {
          "output_type": "execute_result",
          "data": {
            "application/vnd.google.colaboratory.intrinsic+json": {
              "type": "string"
            },
            "text/plain": [
              "'       Basic Regular Expression Meta-Characters, Including Wildcards, Ranges and Closures\\n\\n.\\t        Wildcard, matches any character\\n^abc\\t    Matches some pattern abc at the start of a string\\nabc$\\t    Matches some pattern abc at the end of a string\\n[abc]\\t    Matches one of a set of characters\\n[^abc]    Matches anything but a set of characters\\n[A-Z0-9]\\tMatches one of a range of characters\\ned|ing|s\\tMatches one of the specified strings (disjunction)\\n*\\t        Zero or more of previous item, e.g. a*, [a-z]* (also known as Kleene Closure)\\n+\\t        One or more of previous item, e.g. a+, [a-z]+\\n?\\t        Zero or one of the previous item (i.e. optional), e.g. a?, [a-z]?\\n{n}\\t      Exactly n repeats where n is a non-negative integer\\n{n,}\\t    At least n repeats\\n{,n}\\t    No more than n repeats\\n{m,n}\\t    At least m and no more than n repeats\\na(b|c)+\\t  Parentheses that indicate the scope of the operators\\n(...)     Matches whatever regular expression is inside the parentheses\\n\\\\d\\nMatches any decimal digit; this is equivalent to the class [0-9].\\n\\\\D\\nMatches any non-digit character; this is equivalent to the class [^0-9].\\n\\\\s\\nMatches any whitespace character; this is equivalent to the class [ \\t\\n\\r\\x0c\\x0b].\\n\\\\S\\nMatches any non-whitespace character; this is equivalent to the class [^ \\t\\n\\r\\x0c\\x0b].\\n\\\\w\\nMatches any alphanumeric character; this is equivalent to the class [a-zA-Z0-9_].\\n\\\\W\\nMatches any non-alphanumeric character; this is equivalent to the class [^a-zA-Z0-9_].\\n\\n'"
            ]
          },
          "metadata": {},
          "execution_count": 133
        }
      ]
    },
    {
      "cell_type": "code",
      "source": [
        "word = 'supercalifragilisticexpialidocious'\n",
        "re.search('[aeiou]li', word)    #re.search():re(regular expression)에 있는 search(function)을 사용    #[aeiou]li: 규칙-찾을 대상 ex. ali, eli, ili, oli, uli    #가장 먼저 나오는 것만 찾음\n",
        "#결과값 <re.Match object; span=(6, 9), match='ali'> 7번째(6번째 다음)부터 9번째까지"
      ],
      "metadata": {
        "id": "6R_iHQ1B52D1",
        "outputId": "d3638064-6b31-493f-9eb9-6eaf9559268a",
        "colab": {
          "base_uri": "https://localhost:8080/"
        }
      },
      "execution_count": 134,
      "outputs": [
        {
          "output_type": "execute_result",
          "data": {
            "text/plain": [
              "<re.Match object; span=(6, 9), match='ali'>"
            ]
          },
          "metadata": {},
          "execution_count": 134
        }
      ]
    },
    {
      "cell_type": "code",
      "source": [
        "# 예문\n",
        "word = 'supercalifragilisticexpialidocious'\n",
        "re.search('.li', word)"
      ],
      "metadata": {
        "id": "sQ7CIw0k7Nq9",
        "outputId": "7a0532d2-102c-47a4-aa41-d503063719ac",
        "colab": {
          "base_uri": "https://localhost:8080/"
        }
      },
      "execution_count": 135,
      "outputs": [
        {
          "output_type": "execute_result",
          "data": {
            "text/plain": [
              "<re.Match object; span=(6, 9), match='ali'>"
            ]
          },
          "metadata": {},
          "execution_count": 135
        }
      ]
    },
    {
      "cell_type": "code",
      "source": [
        "# search: 많은 function들 중(match, find, search) 하나임    # re.search(찾으려는 규칙, 대상(str))\n",
        "re.findall('ed', 'considered seed')  # 모두 찾아줌\n",
        "re.findall('ed$','considered seed')   #제일 마지막의 ed를 찾아줌(하나만)\n",
        "\n",
        "re.findall('con','considered condo') \n",
        "re.findall('^con','considered condo') # str 이니셜에서 하나만 찾음\n",
        "\n",
        "re.findall('[abc]','considered condo')  # a혹은 b혹은 c를 찾음\n",
        "re.findall('[A-Z]','considered condo') # A~Z까지 나오는 것 다 찾아라(대문자)\n",
        "re.findall('[a-z]','considered condo') # a~z까지 나오는 것 다 찾아라(공백 제외)\n",
        "re.findall('[a-z\\s]','considered condo') # a~z까지 나오는 것 다 찾아라(공백 포함)\n",
        "\n",
        "# \\t(tab)/ \\n(new line)/\\r(return)"
      ],
      "metadata": {
        "id": "TZ2hw5OoFynk",
        "outputId": "fd613831-2dbe-47eb-a3ac-eef2a355db70",
        "colab": {
          "base_uri": "https://localhost:8080/"
        }
      },
      "execution_count": 136,
      "outputs": [
        {
          "output_type": "execute_result",
          "data": {
            "text/plain": [
              "['c',\n",
              " 'o',\n",
              " 'n',\n",
              " 's',\n",
              " 'i',\n",
              " 'd',\n",
              " 'e',\n",
              " 'r',\n",
              " 'e',\n",
              " 'd',\n",
              " ' ',\n",
              " 'c',\n",
              " 'o',\n",
              " 'n',\n",
              " 'd',\n",
              " 'o']"
            ]
          },
          "metadata": {},
          "execution_count": 136
        }
      ]
    },
    {
      "cell_type": "code",
      "source": [
        "re.findall('[^a-z]','considered condo')    #' '만 나옴\n",
        "re.findall('[^a-z]','Considered 3condo')   #'C', ' ', '3' 나옴\n",
        "re.findall('ed|ing|s','considered condo')  #ed 혹은 ing 혹은 s 를 찾아라('s', 'ed' 나옴)\n",
        "re.findall('ed\\s|ing\\s|s\\s','considered condo')  # 접사/용언으로 사용된 것을 찾고 싶다면 ( 'ed') \n",
        "re.findall('[s]*','Conssidered 3condo')   # s가 0개 이상 포함 된 것\n",
        "re.findall('[s]+','Conssidered 3condo')   # s가 1개 이상 포함된 것\n",
        "re.findall('[s]?','Conssidered 3condo')   # s가 없거나 1개짜리\n",
        "re.findall('[s]{2}','Conssidered 3condo') # s가 딱 2번 나오는 것\n",
        "re.findall('[s]{1,}','Conssidered 3condo') # s가 1개 이상 나오는 것"
      ],
      "metadata": {
        "id": "Ij9R46LNH_Sr",
        "outputId": "77de4b54-20b7-4bca-b7b0-8c5b18cb184c",
        "colab": {
          "base_uri": "https://localhost:8080/"
        }
      },
      "execution_count": 137,
      "outputs": [
        {
          "output_type": "execute_result",
          "data": {
            "text/plain": [
              "['ss']"
            ]
          },
          "metadata": {},
          "execution_count": 137
        }
      ]
    },
    {
      "cell_type": "code",
      "metadata": {
        "id": "sp3_Dm9Q_tNQ",
        "outputId": "7fca0746-fbba-4f99-ddf2-81d649ccfe80",
        "colab": {
          "base_uri": "https://localhost:8080/"
        }
      },
      "source": [
        "engdict = nltk.corpus.words.words('en')   # 사전에서 ed로 끝나는 단어를 찾고자 함\n",
        "\n",
        "result = [w for w in engdict if re.search('ed$', w)]    # engdict에 있는 것을 w로 받아 for loop를 돌림(w for w in engdict), str(w)이 ed로 끝나는 것 (if re.search('ed$', w))으로 리스트 작성([])\n",
        "# result = [w for w in engdict if re.search('^..j..t..$', w)]   # j, t가 3번째, 6번째 차지하는 모든 단어를 가져와라\n",
        "# result = [w for w in engdict if re.search('^[ghi][mno][jlk][def]$', w)] #ghi 중 하나만, mno 중 하나만, jlk 중 하나만, def 중 하나만 갖는 단어를 찾아라 ex. gold,...\n",
        "# result = [w for w in engdict if re.search('^[ah]+$', w)] # a혹은 h의 글자가 하나 이상 나오는 모든 단어를 찾아라 ex. a, aa,...\n",
        "print(result[:10])    # 10개만 보자"
      ],
      "execution_count": 141,
      "outputs": [
        {
          "output_type": "stream",
          "name": "stdout",
          "text": [
            "['abaissed', 'abandoned', 'abased', 'abashed', 'abatised', 'abed', 'aborted', 'abridged', 'abscessed', 'absconded']\n"
          ]
        }
      ]
    },
    {
      "cell_type": "code",
      "source": [
        "# 예문\n",
        "if re.search('ed$', 'baked'):   # if를 만족 시키면 통과가 된다는 것을 알 수 있음\n",
        "  print('yes')\n",
        "else:\n",
        "  print('no')"
      ],
      "metadata": {
        "id": "yzTQ1sS4Nz0C",
        "outputId": "6b5b54b6-b02e-4465-ad8c-5a25ba12bff9",
        "colab": {
          "base_uri": "https://localhost:8080/"
        }
      },
      "execution_count": 140,
      "outputs": [
        {
          "output_type": "stream",
          "name": "stdout",
          "text": [
            "yes\n"
          ]
        }
      ]
    },
    {
      "cell_type": "code",
      "metadata": {
        "id": "B1a5mQYj4hwn"
      },
      "source": [
        "nltk.download('treebank')\n",
        "wsj = nltk.corpus.treebank.words()    #wsj wall street journer\n",
        "\n",
        "# result = [w for w in wsj if re.search('(ed|ing)$', w)]  #ed 혹은 ing로 끝나는 단어를 가져와라\n",
        "# result = [w for w in wsj if re.search('^[0-9]+\\.[0-9]+$', w)]   # 숫자가 하나 이상은 나오고, . 하나 나오고, 숫자가 하나 이상은 나오고 (한마디로 소수점) # \\. 진짜 .\n",
        "# result = [w for w in wsj if re.search('^[A-Z]+\\$$', w)]   #대문자가 하나 이상 나오고, 진짜 달러로 끝나는 것   # \\$ 진짜 달러\n",
        "# result = [w for w in wsj if re.search('^[0-9]{4}$', w)]   #숫자가 정확하게 4개 나오는 것\n",
        "# result = [w for w in wsj if re.search('^[0-9]+-[a-z]{3,5}$', w)]    #숫자가 하나이상 나오고, - 나오고, 소문자가 3개 혹은 5개 나오는\n",
        "# result = [w for w in wsj if re.search('^[a-z]{5,}-[a-z]{2,3}-[a-z]{,6}$', w)]   # 소문자가 5개 이상 나오고, - 나오고, 소문자가 2개 혹은 3개 나오고, 소문자가 6개 이하로 있는 것\n",
        "\n",
        "result = sorted(set(result))    # sort 방법: list를 set으로 바꾸고 다시 sorted라는 함수에 넣음(sort하기 위해서는 반드시 list는 set으로 바꿔야 함)\n",
        "print(result[:10])"
      ],
      "execution_count": null,
      "outputs": []
    },
    {
      "cell_type": "markdown",
      "metadata": {
        "id": "UyIIqwosCRZa"
      },
      "source": [
        "### Extract information (pos tag, named entity)   \n",
        "\n",
        "pos(part of speech) tagging: 품사를 tagging해줌"
      ]
    },
    {
      "cell_type": "code",
      "metadata": {
        "id": "8VBiObftCVwH"
      },
      "source": [
        "sent = \"I am Jhon from America and would like to go to Starbucks\"\n",
        "words = nltk.word_tokenize(sent)"
      ],
      "execution_count": null,
      "outputs": []
    },
    {
      "cell_type": "code",
      "metadata": {
        "id": "f2HuyzFWCe3U"
      },
      "source": [
        "'''\n",
        "POS tag list:\n",
        "\n",
        "CC\tcoordinating conjunction\n",
        "CD\tcardinal digit\n",
        "DT\tdeterminer\n",
        "EX\texistential there (like: \"there is\" ... think of it like \"there exists\")\n",
        "FW\tforeign word\n",
        "IN\tpreposition/subordinating conjunction\n",
        "JJ\tadjective\t'big'\n",
        "JJR\tadjective, comparative\t'bigger'\n",
        "JJS\tadjective, superlative\t'biggest'\n",
        "LS\tlist marker\t1)\n",
        "MD\tmodal\tcould, will\n",
        "NN\tnoun, singular 'desk'\n",
        "NNS\tnoun plural\t'desks'\n",
        "NNP\tproper noun, singular\t'Harrison'\n",
        "NNPS\tproper noun, plural\t'Americans'\n",
        "PDT\tpredeterminer\t'all the kids'\n",
        "POS\tpossessive ending\tparent's\n",
        "PRP\tpersonal pronoun\tI, he, she\n",
        "PRP$\tpossessive pronoun\tmy, his, hers\n",
        "RB\tadverb\tvery, silently,\n",
        "RBR\tadverb, comparative\tbetter\n",
        "RBS\tadverb, superlative\tbest\n",
        "RP\tparticle\tgive up\n",
        "TO\tto\tgo 'to' the store.\n",
        "UH\tinterjection\terrrrrrrrm\n",
        "VB\tverb, base form\ttake\n",
        "VBD\tverb, past tense\ttook\n",
        "VBG\tverb, gerund/present participle\ttaking\n",
        "VBN\tverb, past participle\ttaken\n",
        "VBP\tverb, sing. present, non-3d\ttake\n",
        "VBZ\tverb, 3rd person sing. present\ttakes\n",
        "WDT\twh-determiner\twhich\n",
        "WP\twh-pronoun\twho, what\n",
        "WP$\tpossessive wh-pronoun\twhose\n",
        "WRB\twh-abverb\twhere, when\n",
        "'''"
      ],
      "execution_count": null,
      "outputs": []
    },
    {
      "cell_type": "code",
      "metadata": {
        "id": "AwKdu36WCewv"
      },
      "source": [
        "nltk.download('averaged_perceptron_tagger')\n",
        "pos = nltk.pos_tag(words)"
      ],
      "execution_count": null,
      "outputs": []
    },
    {
      "cell_type": "code",
      "metadata": {
        "id": "rnjGT1HpClE0"
      },
      "source": [
        "nltk.download('maxent_ne_chunker')\n",
        "NE = nltk.ne_chunk(pos)\n",
        "# common Entity types: ORGANIZATION, PERSON, LOCATION, DATE, TIME, MONEY, and GPE (geo-political entity)"
      ],
      "execution_count": null,
      "outputs": []
    },
    {
      "cell_type": "markdown",
      "metadata": {
        "id": "jt9DEIZ4lXQF"
      },
      "source": [
        "### Wordcloud"
      ]
    },
    {
      "cell_type": "code",
      "metadata": {
        "id": "jypxOnw9hoyZ"
      },
      "source": [
        "from wordcloud import WordCloud, STOPWORDS\n",
        "import matplotlib.pyplot as plt\n",
        "\n",
        "text = nltk.corpus.gutenberg.raw('bible-kjv.txt')\n",
        "\n",
        "wc = WordCloud().generate(text) \n",
        "plt.imshow(wc)"
      ],
      "execution_count": null,
      "outputs": []
    },
    {
      "cell_type": "code",
      "metadata": {
        "id": "Q6xv5ClAl5xk"
      },
      "source": [
        "stopwords = set(STOPWORDS) \n",
        "stopwords.add('unto')\n",
        "wc = WordCloud(stopwords = stopwords).generate(text) \n",
        "plt.imshow(wc)"
      ],
      "execution_count": null,
      "outputs": []
    }
  ]
}