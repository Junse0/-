{
  "nbformat": 4,
  "nbformat_minor": 0,
  "metadata": {
    "kernelspec": {
      "display_name": "Python 3",
      "language": "python",
      "name": "python3"
    },
    "language_info": {
      "codemirror_mode": {
        "name": "ipython",
        "version": 3
      },
      "file_extension": ".py",
      "mimetype": "text/x-python",
      "name": "python",
      "nbconvert_exporter": "python",
      "pygments_lexer": "ipython3",
      "version": "3.7.1"
    },
    "colab": {
      "name": "numpy.ipynb",
      "provenance": [],
      "include_colab_link": true
    }
  },
  "cells": [
    {
      "cell_type": "markdown",
      "metadata": {
        "id": "view-in-github",
        "colab_type": "text"
      },
      "source": [
        "<a href=\"https://colab.research.google.com/github/Junse0/Private/blob/main/numpy.ipynb\" target=\"_parent\"><img src=\"https://colab.research.google.com/assets/colab-badge.svg\" alt=\"Open In Colab\"/></a>"
      ]
    },
    {
      "cell_type": "markdown",
      "source": [
        "#Numpy-숫자처리"
      ],
      "metadata": {
        "id": "DQHg-Tr_j2T-"
      }
    },
    {
      "cell_type": "markdown",
      "metadata": {
        "id": "JcCdLoe_4bY7"
      },
      "source": [
        "### create nd arrays (≈matrices)"
      ]
    },
    {
      "cell_type": "markdown",
      "metadata": {
        "id": "3wUORQVsPRDl"
      },
      "source": [
        "nd=n dimensional(3차원, 4차원 5차원...)\n",
        "\n",
        "행렬=2d(n x m)\n",
        "\n",
        "벡터=1d\n",
        "\n",
        "2 by 3 by 4 (행 2개, 열 3개, 층 4개)\n",
        "\n",
        "2 by 3 by 4 by 5(\"행 2개, 열 3개, 층 4개\"가 5개) 4d"
      ]
    },
    {
      "cell_type": "code",
      "metadata": {
        "id": "5ap7xyofShBB"
      },
      "source": [
        "import numpy as np"
      ],
      "execution_count": 17,
      "outputs": []
    },
    {
      "cell_type": "code",
      "metadata": {
        "id": "2rqpSPZCShBC",
        "colab": {
          "base_uri": "https://localhost:8080/"
        },
        "outputId": "5a70f13c-f01b-4739-afe1-0ff53e33c6ef"
      },
      "source": [
        "# [[1,2,3],[4,5,6]] 2d array(맨 마지막에 괄호가 몇 개인지)\n",
        "# [1,2,3] 1d\n",
        "\n",
        "x = np.array([1,2,3])\n",
        "print(x)\n",
        "print(type(x))\n",
        "print(x.shape)  # (3, ) 3개짜리 벡터라는 뜻\n",
        "\n",
        "x = np.array([[1,2,3],[4,5,6]])\n",
        "print(x)\n",
        "print(type(x))\n",
        "print(x.shape)  # (2, 3) 제일 바깥 괄호에 2개, 그다음 안에 있는 괄호에 3개의 성분이 있음.\n",
        "\n",
        "x = np.array([[[1,2,3],[4,5,6]],[[8,9,0],[9,9,9]]])\n",
        "print(x)\n",
        "print(type(x))\n",
        "print(x.shape)  # (2, 2, 3) 3d array(결과값 숫자의 개수)"
      ],
      "execution_count": 18,
      "outputs": [
        {
          "output_type": "stream",
          "name": "stdout",
          "text": [
            "[1 2 3]\n",
            "<class 'numpy.ndarray'>\n",
            "(3,)\n",
            "[[1 2 3]\n",
            " [4 5 6]]\n",
            "<class 'numpy.ndarray'>\n",
            "(2, 3)\n",
            "[[[1 2 3]\n",
            "  [4 5 6]]\n",
            "\n",
            " [[8 9 0]\n",
            "  [9 9 9]]]\n",
            "<class 'numpy.ndarray'>\n",
            "(2, 2, 3)\n"
          ]
        }
      ]
    },
    {
      "cell_type": "code",
      "metadata": {
        "id": "EjC88C75ShBC",
        "colab": {
          "base_uri": "https://localhost:8080/"
        },
        "outputId": "e660474f-ae37-414e-e089-e4fddf0f6917"
      },
      "source": [
        "x = np.arange(0,10,2) #arange(a의 range): 0부터 10까지 range를 2만큼 증가시켜서 10이 되기 전에 stop (0 포함)\n",
        "print(x)\n",
        "print(type(x))\n",
        "print(x.shape)  #(5, ) 1차원 array"
      ],
      "execution_count": 19,
      "outputs": [
        {
          "output_type": "stream",
          "name": "stdout",
          "text": [
            "[0 2 4 6 8]\n",
            "<class 'numpy.ndarray'>\n",
            "(5,)\n"
          ]
        }
      ]
    },
    {
      "cell_type": "code",
      "metadata": {
        "id": "-MwkCEjTShBC",
        "colab": {
          "base_uri": "https://localhost:8080/"
        },
        "outputId": "e48b9036-7d09-4a53-e856-a4dd582afc67"
      },
      "source": [
        "x = np.linspace(0,10,6) # linear한 space: 0에서 10까지 총 6개의 숫자를 등간격으로 만들어라(10을 포함)   #arange와 마찬가지로 1차원 array 생성\n",
        "print(x)\n",
        "print(type(x))\n",
        "print(x.shape)  #1d array"
      ],
      "execution_count": 20,
      "outputs": [
        {
          "output_type": "stream",
          "name": "stdout",
          "text": [
            "[ 0.  2.  4.  6.  8. 10.]\n",
            "<class 'numpy.ndarray'>\n",
            "(6,)\n"
          ]
        }
      ]
    },
    {
      "cell_type": "code",
      "metadata": {
        "id": "tjk79SQ27fNv",
        "colab": {
          "base_uri": "https://localhost:8080/"
        },
        "outputId": "99a7b094-828b-49fe-bfd9-1c401f089f26"
      },
      "source": [
        "x = np.array([[1,2,3], [4,5,6]])\n",
        "print(x)\n",
        "print(type(x))\n",
        "print(x.shape)  #(2, 3)"
      ],
      "execution_count": 21,
      "outputs": [
        {
          "output_type": "stream",
          "name": "stdout",
          "text": [
            "[[1 2 3]\n",
            " [4 5 6]]\n",
            "<class 'numpy.ndarray'>\n",
            "(2, 3)\n"
          ]
        }
      ]
    },
    {
      "cell_type": "code",
      "metadata": {
        "id": "C1ogg6iZ7yir",
        "colab": {
          "base_uri": "https://localhost:8080/"
        },
        "outputId": "5001b3e9-6a69-45cc-bfa3-f65929590567"
      },
      "source": [
        "x = np.array([[[1,2,3], [4,5,6]], [[7,8,9], [10,11,12]]])\n",
        "print(x)\n",
        "print(type(x))\n",
        "print(x.shape)  # 3d array"
      ],
      "execution_count": 22,
      "outputs": [
        {
          "output_type": "stream",
          "name": "stdout",
          "text": [
            "[[[ 1  2  3]\n",
            "  [ 4  5  6]]\n",
            "\n",
            " [[ 7  8  9]\n",
            "  [10 11 12]]]\n",
            "<class 'numpy.ndarray'>\n",
            "(2, 2, 3)\n"
          ]
        }
      ]
    },
    {
      "cell_type": "code",
      "metadata": {
        "id": "efgeNHtD8ZlT",
        "colab": {
          "base_uri": "https://localhost:8080/"
        },
        "outputId": "169b450b-92de-47cd-a282-9a3caec81c61"
      },
      "source": [
        "x = np.ones([2, 2, 3]) # ones: 1을 여러 개 만들어줌 (2 by 2 by 3 array 를 1을 사용해 만듦)\n",
        "print(x)\n",
        "print(type(x))\n",
        "print(x.shape)"
      ],
      "execution_count": 23,
      "outputs": [
        {
          "output_type": "stream",
          "name": "stdout",
          "text": [
            "[[[1. 1. 1.]\n",
            "  [1. 1. 1.]]\n",
            "\n",
            " [[1. 1. 1.]\n",
            "  [1. 1. 1.]]]\n",
            "<class 'numpy.ndarray'>\n",
            "(2, 2, 3)\n"
          ]
        }
      ]
    },
    {
      "cell_type": "code",
      "metadata": {
        "id": "b_F-ccY08zzl",
        "colab": {
          "base_uri": "https://localhost:8080/"
        },
        "outputId": "9dfe712f-9e96-4cd5-adca-33431eddaa44"
      },
      "source": [
        "x = np.zeros([2, 2, 3]) # 0으로\n",
        "print(x)\n",
        "print(type(x))\n",
        "print(x.shape)\n",
        "x.reshape(3,2,2)"
      ],
      "execution_count": 24,
      "outputs": [
        {
          "output_type": "stream",
          "name": "stdout",
          "text": [
            "[[[0. 0. 0.]\n",
            "  [0. 0. 0.]]\n",
            "\n",
            " [[0. 0. 0.]\n",
            "  [0. 0. 0.]]]\n",
            "<class 'numpy.ndarray'>\n",
            "(2, 2, 3)\n"
          ]
        },
        {
          "output_type": "execute_result",
          "data": {
            "text/plain": [
              "array([[[0., 0.],\n",
              "        [0., 0.]],\n",
              "\n",
              "       [[0., 0.],\n",
              "        [0., 0.]],\n",
              "\n",
              "       [[0., 0.],\n",
              "        [0., 0.]]])"
            ]
          },
          "metadata": {},
          "execution_count": 24
        }
      ]
    },
    {
      "cell_type": "markdown",
      "metadata": {
        "id": "0hQuDJ5g9gpE"
      },
      "source": [
        "### create random numbers"
      ]
    },
    {
      "cell_type": "code",
      "metadata": {
        "id": "QRatmkx79otL"
      },
      "source": [
        "import matplotlib.pyplot as plt"
      ],
      "execution_count": 25,
      "outputs": []
    },
    {
      "cell_type": "code",
      "metadata": {
        "id": "z1oOAB6dShBD",
        "colab": {
          "base_uri": "https://localhost:8080/",
          "height": 676
        },
        "outputId": "d2190b22-986e-491f-b60d-5470540929e9"
      },
      "source": [
        "x = np.random.normal(0, 1, 100) # (평균값, standard diviation, size)\n",
        "# print(type(x))\n",
        "# print(x.shape)\n",
        "print(x)\n",
        "plt.hist(x, bins=10)  #bin의 개수=bar의 개수(해상도와 관련됨)"
      ],
      "execution_count": 31,
      "outputs": [
        {
          "output_type": "stream",
          "name": "stdout",
          "text": [
            "[ 0.38153818 -0.75777061 -1.43343982  0.64380933  2.50027506 -0.14771195\n",
            "  1.74096151 -0.10256865 -0.90543887  0.59472097 -0.40642758  0.3850536\n",
            " -0.02558276  1.51787338  0.90165507 -0.21336673 -1.84298487 -0.18938671\n",
            "  0.421845    2.44520811 -0.05070859 -0.76243461 -1.12948793 -1.55240596\n",
            "  1.90255315  1.0059125  -0.71353989  0.37940653 -0.42947652 -1.32314859\n",
            " -0.44206105  1.7503105  -1.14503595  0.36360579  1.19486712  1.33114903\n",
            " -0.84382008 -2.49218553 -0.10408318  0.78266197 -1.16487137  1.21031998\n",
            "  0.91910729  0.55876526 -0.60417394 -0.53352193  0.87928434 -0.15010867\n",
            " -1.08785095  1.22560521  0.41434194 -0.48332318 -0.21749758  0.88355786\n",
            " -0.75529071  1.0557092   1.10537356 -0.90785104  0.40713498  1.59142999\n",
            "  0.11628903 -0.42660593 -0.37624633  0.96823666 -0.04311275  1.86847879\n",
            " -0.16030336 -0.27582078  0.80139937  0.04168917 -0.15826517  2.25579481\n",
            " -0.513072    0.59386005  0.16676841  0.55648309 -0.3541344   0.79951655\n",
            " -0.63355131  0.05583016 -0.70327781  1.18620928  1.68770569  0.27129243\n",
            "  0.24240476 -0.0926243   0.5453047   0.06286285  0.53344653  1.12889598\n",
            "  1.36077037  0.89848248 -2.44596285 -1.94380912  1.7170289   0.7359609\n",
            "  1.47700916 -2.17805783  0.12257527 -0.14718168]\n"
          ]
        },
        {
          "output_type": "execute_result",
          "data": {
            "text/plain": [
              "(array([ 3.,  3.,  6., 12., 22., 15., 17., 11.,  8.,  3.]),\n",
              " array([-2.49218553, -1.99293947, -1.49369341, -0.99444735, -0.49520129,\n",
              "         0.00404477,  0.50329083,  1.00253688,  1.50178294,  2.001029  ,\n",
              "         2.50027506]),\n",
              " <a list of 10 Patch objects>)"
            ]
          },
          "metadata": {},
          "execution_count": 31
        },
        {
          "output_type": "display_data",
          "data": {
            "image/png": "[encoded data removed]",
            "text/plain": [
              "<Figure size 432x288 with 1 Axes>"
            ]
          },
          "metadata": {
            "needs_background": "light"
          }
        }
      ]
    },
    {
      "cell_type": "markdown",
      "metadata": {
        "id": "G0exvwBbShBE"
      },
      "source": [
        "### generate a sine curve"
      ]
    },
    {
      "cell_type": "code",
      "metadata": {
        "id": "HgQmRXzMShBE",
        "colab": {
          "base_uri": "https://localhost:8080/",
          "height": 314
        },
        "outputId": "b39f3641-4f71-4987-d8b7-b3b5d0ada20f"
      },
      "source": [
        "theta = np.linspace(0, 2*np.pi, 100)                                            # 2pi/ 2*pi 인식 못함 꼭 2*np.pi로 # 2*np.pi 포함    # 0부터 2π까지 100개의 숫자를 만들어라(0과 2π 포함)\n",
        "                                                                                # 여기서 theta(각도)는 100개의 1d array(벡터) 값을 가짐\n",
        "s = np.sin(theta)                                                               # theta(각도)의 각각에 해당하는 100개의 sin 값을 가짐   # sin 함수에 0,...2π 값을 대입 ex. sin (0) = 0, sin (2π) = 0\n",
        "plt.plot(theta, s, '.')                                                         # theta를 x 축으로, s를 y축으로 하여 plotting함\n",
        "                                                                                # plot('x값', 'y값', 그래프 디자인-'없음','o','.''r.','k.'b.','m.',':','-')\n",
        "\n",
        "plt.xlabel('angle(radian)')\n",
        "plt.ylabel('value')\n",
        "plt.title('my first sine curve')\n",
        "\n",
        "# 문제: 그래프의 점들의 개수는 몇 개인가? 100개\n",
        "# 첫 번째 점은 theta=0인 값\n",
        "\n",
        "# print(theta.shape)"
      ],
      "execution_count": 32,
      "outputs": [
        {
          "output_type": "execute_result",
          "data": {
            "text/plain": [
              "Text(0.5, 1.0, 'my first sine curve')"
            ]
          },
          "metadata": {},
          "execution_count": 32
        },
        {
          "output_type": "display_data",
          "data": {
            "image/png": "[encoded data removed]",
            "text/plain": [
              "<Figure size 432x288 with 1 Axes>"
            ]
          },
          "metadata": {
            "needs_background": "light"
          }
        }
      ]
    },
    {
      "cell_type": "code",
      "metadata": {
        "id": "WTqXoomZBbBk",
        "colab": {
          "base_uri": "https://localhost:8080/",
          "height": 314
        },
        "outputId": "ceafe1be-ebf6-41a4-b84a-ed448f2bbe68"
      },
      "source": [
        "theta2 = np.linspace(0, 2*np.pi, 100) + np.pi/2 # 0도 부터 2π까지 + 90도(π/2)\n",
        "s2 = np.sin(theta2)\n",
        "plt.plot(theta2, s2, 'b:')\n",
        "\n",
        "plt.xlabel('angle(radian)')\n",
        "plt.ylabel('value')\n",
        "plt.title('my first sine curve')\n",
        "\n",
        "# 앞의 sin 곡선과의 phase difference(각도 차이)는 90도!!"
      ],
      "execution_count": 28,
      "outputs": [
        {
          "output_type": "execute_result",
          "data": {
            "text/plain": [
              "Text(0.5, 1.0, 'my first sine curve')"
            ]
          },
          "metadata": {},
          "execution_count": 28
        },
        {
          "output_type": "display_data",
          "data": {
            "image/png": "[encoded data removed]",
            "text/plain": [
              "<Figure size 432x288 with 1 Axes>"
            ]
          },
          "metadata": {
            "needs_background": "light"
          }
        }
      ]
    },
    {
      "cell_type": "markdown",
      "metadata": {
        "id": "qW58sY_HZUih"
      },
      "source": [
        "phase difference (위상차)"
      ]
    },
    {
      "cell_type": "code",
      "metadata": {
        "id": "TuH489v9BvQ7",
        "colab": {
          "base_uri": "https://localhost:8080/"
        },
        "outputId": "fc4d7e59-2e31-49f2-9279-a279cb73595c"
      },
      "source": [
        "np.corrcoef(s,s2)"
      ],
      "execution_count": 29,
      "outputs": [
        {
          "output_type": "execute_result",
          "data": {
            "text/plain": [
              "array([[1.00000000e+00, 2.41915449e-17],\n",
              "       [2.41915449e-17, 1.00000000e+00]])"
            ]
          },
          "metadata": {},
          "execution_count": 29
        }
      ]
    }
  ]
}