{
  "nbformat": 4,
  "nbformat_minor": 0,
  "metadata": {
    "colab": {
      "name": "Untitled6.ipynb",
      "provenance": [],
      "authorship_tag": "ABX9TyP8a9oe2MHmotnvC6ioR/b1",
      "include_colab_link": true
    },
    "kernelspec": {
      "name": "python3",
      "display_name": "Python 3"
    },
    "language_info": {
      "name": "python"
    }
  },
  "cells": [
    {
      "cell_type": "markdown",
      "metadata": {
        "id": "view-in-github",
        "colab_type": "text"
      },
      "source": [
        "<a href=\"https://colab.research.google.com/github/Junse0/Private/blob/main/.ipynb\" target=\"_parent\"><img src=\"https://colab.research.google.com/assets/colab-badge.svg\" alt=\"Open In Colab\"/></a>"
      ]
    },
    {
      "cell_type": "markdown",
      "metadata": {
        "id": "OmwXTL0UA5aw"
      },
      "source": [
        "### Collocation, Concordance"
      ]
    },
    {
      "cell_type": "markdown",
      "metadata": {
        "id": "SuTI4hZhF8AU"
      },
      "source": [
        "두 단어의 연쇄 / 예문 찾을 때"
      ]
    },
    {
      "cell_type": "code",
      "source": [
        "import nltk"
      ],
      "metadata": {
        "id": "voL1Jry0zfvB"
      },
      "execution_count": 9,
      "outputs": []
    },
    {
      "cell_type": "code",
      "source": [
        "from nltk.tokenize import word_tokenize\n",
        "nltk.download('punkt') "
      ],
      "metadata": {
        "id": "oDJKxBhNz1Ru"
      },
      "execution_count": null,
      "outputs": []
    },
    {
      "cell_type": "code",
      "metadata": {
        "id": "Fll4ygxNA3OJ"
      },
      "source": [
        "nltk.download('gutenberg')    #gutenberg: nltk corpus\n",
        "text = nltk.corpus.gutenberg.raw('melville-moby_dick.txt')\n",
        "words = nltk.word_tokenize(text)    # str을 list로 바꿔주는 tokenizer   # words에 tokenize되어 담겨 있게 됨"
      ],
      "execution_count": null,
      "outputs": []
    },
    {
      "cell_type": "code",
      "source": [
        "#예문\n",
        "nltk.download('gutenberg')  #nltk corpus\n",
        "text = nltk.corpus.gutenberg.raw('melville-moby_dick.txt')\n",
        "print(text)\n",
        "\n",
        "len(text)   # 결과값: 254989(단어의 type이 아님 I am a boy boy boy boy-모두 count)\n",
        "print(len(text))    "
      ],
      "metadata": {
        "id": "93jSOZggxssI"
      },
      "execution_count": null,
      "outputs": []
    },
    {
      "cell_type": "code",
      "source": [
        "from nltk.corpus import stopwords\n",
        "nltk.download('stopwords')"
      ],
      "metadata": {
        "id": "X_rxYF6_1Hv_"
      },
      "execution_count": null,
      "outputs": []
    },
    {
      "cell_type": "code",
      "metadata": {
        "id": "NqVXlhIrAtmf",
        "outputId": "5f4ad2e5-617c-4da4-a7c7-69cae5c961bb",
        "colab": {
          "base_uri": "https://localhost:8080/"
        }
      },
      "source": [
        "nltk.Text(words).collocations()   # 빈번하게 나오는 두 단어"
      ],
      "execution_count": 17,
      "outputs": [
        {
          "output_type": "stream",
          "name": "stdout",
          "text": [
            "Sperm Whale; Moby Dick; White Whale; old man; Captain Ahab; sperm\n",
            "whale; Right Whale; Captain Peleg; Mr. Starbuck; New Bedford; Cape\n",
            "Horn; 'ye see; cried Ahab; years ago; lower jaw; white whale; Mrs.\n",
            "Hussey; chief mate; never mind; Father Mapple\n"
          ]
        }
      ]
    },
    {
      "cell_type": "code",
      "metadata": {
        "id": "Aq0wiutwA_au"
      },
      "source": [
        "nltk.Text(words).concordance('great', 79, 10) # concordance-용법, 용례    #교육적으로 유용"
      ],
      "execution_count": null,
      "outputs": []
    },
    {
      "cell_type": "code",
      "source": [
        "# 예문\n",
        "nltk.Text(words).concordance('great', 10, 10) # ('great'. 앞 뒤로 n-1개, 10)"
      ],
      "metadata": {
        "colab": {
          "base_uri": "https://localhost:8080/"
        },
        "id": "dWlFT6Tp1llm",
        "outputId": "cf29d0ca-3b63-440b-ba73-66be8cfef0eb"
      },
      "execution_count": 19,
      "outputs": [
        {
          "output_type": "stream",
          "name": "stdout",
          "text": [
            "Displaying 10 of 303 matches:\n",
            "d great w\n",
            "a great f\n",
            "d great ,\n",
            "l great s\n",
            "a great m\n",
            "y great v\n",
            "n great s\n",
            "e great L\n",
            "t great L\n",
            "a great d\n"
          ]
        }
      ]
    }
  ]
}