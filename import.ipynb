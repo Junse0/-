{
  "nbformat": 4,
  "nbformat_minor": 0,
  "metadata": {
    "colab": {
      "name": "import.ipynb",
      "provenance": [],
      "include_colab_link": true
    },
    "kernelspec": {
      "name": "python3",
      "display_name": "Python 3"
    },
    "language_info": {
      "name": "python"
    }
  },
  "cells": [
    {
      "cell_type": "markdown",
      "metadata": {
        "id": "view-in-github",
        "colab_type": "text"
      },
      "source": [
        "<a href=\"https://colab.research.google.com/github/Junse0/Private/blob/main/import.ipynb\" target=\"_parent\"><img src=\"https://colab.research.google.com/assets/colab-badge.svg\" alt=\"Open In Colab\"/></a>"
      ]
    },
    {
      "cell_type": "code",
      "metadata": {
        "id": "Fm4fJPsOKD7M",
        "outputId": "e27ff204-6ec6-4e32-ce8f-94ed98481670",
        "colab": {
          "base_uri": "https://localhost:8080/"
        }
      },
      "source": [
        "import numpy as np                                                              # numpy를 불러옴    # as는 numpy를 np라고 하겠다\n",
        "n=np.random.randn(100)                                                          # numpy라는 패키지 속의 random이라는 폴더 밑의 randn이라는 function을 쓰겠다(폴더 속의 폴더가 있을 수 있음)\n",
        "                                                                                #randn(100) 100개의 랜덤 넘버\n",
        "print(n)"
      ],
      "execution_count": 18,
      "outputs": [
        {
          "output_type": "stream",
          "name": "stdout",
          "text": [
            "[ 0.46013057  1.89988024 -0.47808854 -0.42638316 -0.49182099  0.57617361\n",
            "  0.79334691 -0.62054572 -2.40482131 -0.09903117 -0.79089492  1.75013398\n",
            "  2.18511345  1.26114123  0.40594815  0.07298512  0.6119739  -0.47694985\n",
            "  0.06183364 -0.3797407   0.31345032  1.19001557  0.27004738 -0.50122571\n",
            " -0.03987412  0.03367686 -0.34974537  0.67259158  0.74416767 -0.61848022\n",
            " -1.41372177 -0.91773914 -0.50256887 -0.87762779  0.32337584 -0.82996721\n",
            "  0.77348837  0.04438184 -1.0062282   1.10315269 -1.03508705 -0.08766552\n",
            " -0.75309511 -0.08590875  0.03756313 -0.84658614  0.08375834  0.99207006\n",
            "  0.85054553  0.33409729 -0.33217827  0.21396463 -0.88364314  0.45133242\n",
            "  0.28586454  2.68039207  1.10338814 -1.01684392 -0.39605042 -0.5682896\n",
            " -0.95391807 -1.49880722 -0.04097309  0.30086694 -0.59041844  0.37704267\n",
            " -0.0852943   0.46681187  0.7552728  -0.51362313 -0.11985292 -1.12048341\n",
            "  0.97744624  1.60944868 -0.30367392  0.59719331  2.03748078 -0.23735727\n",
            " -0.81914993  1.22961452 -1.08820007 -0.90341014  0.29161214  2.32907906\n",
            "  1.86997451 -0.13430328 -0.43584814 -1.71027888 -1.18352496  0.34262479\n",
            " -0.51161774 -0.19993619 -1.02728132  0.52335064 -0.57255979  1.33617374\n",
            " -0.24238867  0.36361122 -0.18591379  1.4824758 ]\n"
          ]
        }
      ]
    },
    {
      "cell_type": "code",
      "source": [
        "import matplotlib # matplotlib을 불러옴\n",
        "import matplotlib.pyplot #matplotlib의 pyplot라는 폴더 밑에...\n",
        "from matplotlib import pyplot\n",
        "from matplotlib.pyplot import hist"
      ],
      "metadata": {
        "id": "1JQrzIVpkwEm"
      },
      "execution_count": 19,
      "outputs": []
    },
    {
      "cell_type": "code",
      "metadata": {
        "id": "oKT4vn4MwyLA",
        "colab": {
          "base_uri": "https://localhost:8080/",
          "height": 545
        },
        "outputId": "05d685da-010b-43be-a014-96f93d4069c0"
      },
      "source": [
        "# 패키지 통채로 import(가장 간단한 방법)\n",
        "import matplotlib\n",
        "# matplotlib.pyplot.hist(n)                                                     # 히스토그램 작성    # n은 앞에서 정의 100개의 random-number\n",
        "# 정규분포 형태와 유사함(종 모양)(데이터가 많을 수록 정규분포에 가까움)\n",
        "\n",
        "matplotlib.pyplot.hist(n, bins=50)  # bin의 개수(가로 축) (bin의 개수가 적절할 수록 예쁘게)"
      ],
      "execution_count": 20,
      "outputs": [
        {
          "output_type": "execute_result",
          "data": {
            "text/plain": [
              "(array([1., 0., 0., 0., 0., 0., 1., 0., 1., 1., 0., 0., 3., 4., 4., 5., 1.,\n",
              "        3., 9., 4., 3., 4., 6., 3., 5., 1., 7., 4., 4., 3., 2., 3., 1., 2.,\n",
              "        2., 2., 2., 0., 1., 1., 1., 0., 2., 1., 0., 1., 1., 0., 0., 1.]),\n",
              " array([-2.40482131, -2.30311704, -2.20141277, -2.09970851, -1.99800424,\n",
              "        -1.89629997, -1.7945957 , -1.69289144, -1.59118717, -1.4894829 ,\n",
              "        -1.38777863, -1.28607437, -1.1843701 , -1.08266583, -0.98096156,\n",
              "        -0.8792573 , -0.77755303, -0.67584876, -0.57414449, -0.47244023,\n",
              "        -0.37073596, -0.26903169, -0.16732742, -0.06562316,  0.03608111,\n",
              "         0.13778538,  0.23948965,  0.34119391,  0.44289818,  0.54460245,\n",
              "         0.64630672,  0.74801098,  0.84971525,  0.95141952,  1.05312379,\n",
              "         1.15482805,  1.25653232,  1.35823659,  1.45994086,  1.56164512,\n",
              "         1.66334939,  1.76505366,  1.86675793,  1.96846219,  2.07016646,\n",
              "         2.17187073,  2.273575  ,  2.37527926,  2.47698353,  2.5786878 ,\n",
              "         2.68039207]),\n",
              " <a list of 50 Patch objects>)"
            ]
          },
          "metadata": {},
          "execution_count": 20
        },
        {
          "output_type": "display_data",
          "data": {
            "image/png": "[encoded data removed]",
            "text/plain": [
              "<Figure size 432x288 with 1 Axes>"
            ]
          },
          "metadata": {
            "needs_background": "light"
          }
        }
      ]
    },
    {
      "cell_type": "code",
      "metadata": {
        "colab": {
          "base_uri": "https://localhost:8080/",
          "height": 359
        },
        "id": "zQJ4LnbA-Hvz",
        "outputId": "72a514ae-dc9d-4c2c-c0a5-c2afdc7d90c3"
      },
      "source": [
        "import matplotlib.pyplot\n",
        "matplotlib.pyplot.hist(n) # full로 다 적어 주어야 함\n",
        "\n",
        "# 오류!\n",
        "# import matplotlib.pyplot\n",
        "# pyplot.hist(n)"
      ],
      "execution_count": 21,
      "outputs": [
        {
          "output_type": "execute_result",
          "data": {
            "text/plain": [
              "(array([ 1.,  3., 11., 22., 21., 19., 10.,  6.,  4.,  3.]),\n",
              " array([-2.40482131, -1.89629997, -1.38777863, -0.8792573 , -0.37073596,\n",
              "         0.13778538,  0.64630672,  1.15482805,  1.66334939,  2.17187073,\n",
              "         2.68039207]),\n",
              " <a list of 10 Patch objects>)"
            ]
          },
          "metadata": {},
          "execution_count": 21
        },
        {
          "output_type": "display_data",
          "data": {
            "image/png": "[encoded data removed]",
            "text/plain": [
              "<Figure size 432x288 with 1 Axes>"
            ]
          },
          "metadata": {
            "needs_background": "light"
          }
        }
      ]
    },
    {
      "cell_type": "code",
      "metadata": {
        "id": "AWU6awi53c07",
        "colab": {
          "base_uri": "https://localhost:8080/",
          "height": 359
        },
        "outputId": "b213668b-3f42-41c0-b666-fa73888e5b3f"
      },
      "source": [
        "import matplotlib.pyplot as plt # as: full로 적는것을 생략할 수 있음\n",
        "plt.hist(n)"
      ],
      "execution_count": 22,
      "outputs": [
        {
          "output_type": "execute_result",
          "data": {
            "text/plain": [
              "(array([ 1.,  3., 11., 22., 21., 19., 10.,  6.,  4.,  3.]),\n",
              " array([-2.40482131, -1.89629997, -1.38777863, -0.8792573 , -0.37073596,\n",
              "         0.13778538,  0.64630672,  1.15482805,  1.66334939,  2.17187073,\n",
              "         2.68039207]),\n",
              " <a list of 10 Patch objects>)"
            ]
          },
          "metadata": {},
          "execution_count": 22
        },
        {
          "output_type": "display_data",
          "data": {
            "image/png": "[encoded data removed]",
            "text/plain": [
              "<Figure size 432x288 with 1 Axes>"
            ]
          },
          "metadata": {
            "needs_background": "light"
          }
        }
      ]
    },
    {
      "cell_type": "code",
      "metadata": {
        "colab": {
          "base_uri": "https://localhost:8080/",
          "height": 359
        },
        "id": "moIjn3Kv-Hqy",
        "outputId": "3f9041f5-eb0d-460a-d587-f7b9ad159c66"
      },
      "source": [
        "from matplotlib import pyplot #from '제일 큰 상위개념'\n",
        "pyplot.hist(n)"
      ],
      "execution_count": 23,
      "outputs": [
        {
          "output_type": "execute_result",
          "data": {
            "text/plain": [
              "(array([ 1.,  3., 11., 22., 21., 19., 10.,  6.,  4.,  3.]),\n",
              " array([-2.40482131, -1.89629997, -1.38777863, -0.8792573 , -0.37073596,\n",
              "         0.13778538,  0.64630672,  1.15482805,  1.66334939,  2.17187073,\n",
              "         2.68039207]),\n",
              " <a list of 10 Patch objects>)"
            ]
          },
          "metadata": {},
          "execution_count": 23
        },
        {
          "output_type": "display_data",
          "data": {
            "image/png": "[encoded data removed]",
            "text/plain": [
              "<Figure size 432x288 with 1 Axes>"
            ]
          },
          "metadata": {
            "needs_background": "light"
          }
        }
      ]
    },
    {
      "cell_type": "code",
      "metadata": {
        "colab": {
          "base_uri": "https://localhost:8080/",
          "height": 359
        },
        "id": "ORo259i7_Uqi",
        "outputId": "de8d5c30-2517-4946-b5d6-2ab1aaae49c2"
      },
      "source": [
        "from matplotlib.pyplot import hist  # 다음부터는 hist만 적어도 됨\n",
        "hist(n)"
      ],
      "execution_count": 24,
      "outputs": [
        {
          "output_type": "execute_result",
          "data": {
            "text/plain": [
              "(array([ 1.,  3., 11., 22., 21., 19., 10.,  6.,  4.,  3.]),\n",
              " array([-2.40482131, -1.89629997, -1.38777863, -0.8792573 , -0.37073596,\n",
              "         0.13778538,  0.64630672,  1.15482805,  1.66334939,  2.17187073,\n",
              "         2.68039207]),\n",
              " <a list of 10 Patch objects>)"
            ]
          },
          "metadata": {},
          "execution_count": 24
        },
        {
          "output_type": "display_data",
          "data": {
            "image/png": "[encoded data removed]",
            "text/plain": [
              "<Figure size 432x288 with 1 Axes>"
            ]
          },
          "metadata": {
            "needs_background": "light"
          }
        }
      ]
    }
  ]
}