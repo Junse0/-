{
  "nbformat": 4,
  "nbformat_minor": 0,
  "metadata": {
    "kernelspec": {
      "display_name": "Python 3",
      "language": "python",
      "name": "python3"
    },
    "language_info": {
      "codemirror_mode": {
        "name": "ipython",
        "version": 3
      },
      "file_extension": ".py",
      "mimetype": "text/x-python",
      "name": "python",
      "nbconvert_exporter": "python",
      "pygments_lexer": "ipython3",
      "version": "3.7.1"
    },
    "colab": {
      "name": "numpy.ipynb",
      "provenance": [],
      "include_colab_link": true
    }
  },
  "cells": [
    {
      "cell_type": "markdown",
      "metadata": {
        "id": "view-in-github",
        "colab_type": "text"
      },
      "source": [
        "<a href=\"https://colab.research.google.com/github/Junse0/Private/blob/main/numpy.ipynb\" target=\"_parent\"><img src=\"https://colab.research.google.com/assets/colab-badge.svg\" alt=\"Open In Colab\"/></a>"
      ]
    },
    {
      "cell_type": "markdown",
      "source": [
        "#Numpy-숫자처리"
      ],
      "metadata": {
        "id": "DQHg-Tr_j2T-"
      }
    },
    {
      "cell_type": "markdown",
      "metadata": {
        "id": "JcCdLoe_4bY7"
      },
      "source": [
        "### create nd arrays (≈matrices)"
      ]
    },
    {
      "cell_type": "markdown",
      "metadata": {
        "id": "3wUORQVsPRDl"
      },
      "source": [
        "nd=n dimensional(3차원, 4차원 5차원...)\n",
        "\n",
        "행렬=2d(n x m)\n",
        "\n",
        "벡터=1d\n",
        "\n",
        "2 by 3 by 4 (행 2개, 열 3개, 층 4개)\n",
        "\n",
        "2 by 3 by 4 by 5(\"행 2개, 열 3개, 층 4개\"가 5개) 4d"
      ]
    },
    {
      "cell_type": "code",
      "metadata": {
        "id": "5ap7xyofShBB"
      },
      "source": [
        "import numpy as np"
      ],
      "execution_count": null,
      "outputs": []
    },
    {
      "cell_type": "code",
      "metadata": {
        "id": "2rqpSPZCShBC"
      },
      "source": [
        "# [[1,2,3],[4,5,6]] 2d array(맨 마지막에 괄호가 몇 개인지)\n",
        "# [1,2,3] 1d\n",
        "\n",
        "x = np.array([1,2,3])\n",
        "print(x)\n",
        "print(type(x))\n",
        "print(x.shape)  # (3, ) 3개짜리 벡터라는 뜻\n",
        "\n",
        "x = np.array([[1,2,3],[4,5,6]])\n",
        "print(x)\n",
        "print(type(x))\n",
        "print(x.shape)  # (2, 3) 제일 바깥 괄호에 2개, 그다음 안에 있는 괄호에 3개의 성분이 있음.\n",
        "\n",
        "x = np.array([[[1,2,3],[4,5,6]],[[8,9,0],[9,9,9]]])\n",
        "print(x)\n",
        "print(type(x))\n",
        "print(x.shape)  # (2, 2, 3) 3d array(결과값 숫자의 개수)"
      ],
      "execution_count": null,
      "outputs": []
    },
    {
      "cell_type": "code",
      "metadata": {
        "id": "EjC88C75ShBC"
      },
      "source": [
        "x = np.arange(0,10,2) #arange(a의 range): 0부터 10까지 range를 2만큼 증가시켜서 10이 되기 전에 stop (0 포함)\n",
        "print(x)\n",
        "print(type(x))\n",
        "print(x.shape)  #(5, ) 1차원 array"
      ],
      "execution_count": null,
      "outputs": []
    },
    {
      "cell_type": "code",
      "metadata": {
        "id": "-MwkCEjTShBC"
      },
      "source": [
        "x = np.linspace(0,10,6) # linear한 space: 0에서 10까지 총 6개의 숫자를 등간격으로 만들어라(10을 포함)   #arange와 마찬가지로 1차원 array 생성\n",
        "print(x)\n",
        "print(type(x))\n",
        "print(x.shape)  #1d array"
      ],
      "execution_count": null,
      "outputs": []
    },
    {
      "cell_type": "code",
      "metadata": {
        "id": "tjk79SQ27fNv"
      },
      "source": [
        "x = np.array([[1,2,3], [4,5,6]])\n",
        "print(x)\n",
        "print(type(x))\n",
        "print(x.shape)  #(2, 3)"
      ],
      "execution_count": null,
      "outputs": []
    },
    {
      "cell_type": "code",
      "metadata": {
        "id": "C1ogg6iZ7yir"
      },
      "source": [
        "x = np.array([[[1,2,3], [4,5,6]], [[7,8,9], [10,11,12]]])\n",
        "print(x)\n",
        "print(type(x))\n",
        "print(x.shape)  # 3d array"
      ],
      "execution_count": null,
      "outputs": []
    },
    {
      "cell_type": "code",
      "metadata": {
        "id": "efgeNHtD8ZlT"
      },
      "source": [
        "x = np.ones([2, 2, 3]) # ones: 1을 여러 개 만들어줌 (2 by 2 by 3 array 를 1을 사용해 만듦)\n",
        "print(x)\n",
        "print(type(x))\n",
        "print(x.shape)"
      ],
      "execution_count": null,
      "outputs": []
    },
    {
      "cell_type": "code",
      "metadata": {
        "id": "b_F-ccY08zzl"
      },
      "source": [
        "x = np.zeros([2, 2, 3]) # 0으로\n",
        "print(x)\n",
        "print(type(x))\n",
        "print(x.shape)\n",
        "x.reshape(3,2,2)"
      ],
      "execution_count": null,
      "outputs": []
    },
    {
      "cell_type": "markdown",
      "metadata": {
        "id": "0hQuDJ5g9gpE"
      },
      "source": [
        "### create random numbers"
      ]
    },
    {
      "cell_type": "code",
      "metadata": {
        "id": "QRatmkx79otL"
      },
      "source": [
        "import matplotlib.pyplot as plt"
      ],
      "execution_count": null,
      "outputs": []
    },
    {
      "cell_type": "code",
      "metadata": {
        "id": "z1oOAB6dShBD"
      },
      "source": [
        "x = np.random.normal(0, 1, 100) # (평균값, standard diviation, size)\n",
        "# print(type(x))\n",
        "# print(x.shape)\n",
        "print(x)\n",
        "plt.hist(x, bins=10)  #bin의 개수=bar의 개수(해상도와 관련됨)"
      ],
      "execution_count": null,
      "outputs": []
    },
    {
      "cell_type": "markdown",
      "metadata": {
        "id": "G0exvwBbShBE"
      },
      "source": [
        "### generate a sine curve"
      ]
    },
    {
      "cell_type": "code",
      "metadata": {
        "id": "HgQmRXzMShBE"
      },
      "source": [
        "theta = np.linspace(0, 2*np.pi, 100)                                            # 2pi/ 2*pi 인식 못함 꼭 2*np.pi로 # 2*np.pi 포함    # 0부터 2π까지 100개의 숫자를 만들어라(0과 2π 포함)\n",
        "                                                                                # 여기서 theta(각도)는 100개의 1d array(벡터) 값을 가짐\n",
        "s = np.sin(theta)                                                               # theta(각도)의 각각에 해당하는 100개의 sin 값을 가짐   # sin 함수에 0,...2π 값을 대입 ex. sin (0) = 0, sin (2π) = 0\n",
        "plt.plot(theta, s, '.')                                                         # theta를 x 축으로, s를 y축으로 하여 plotting함\n",
        "                                                                                # plot('x값', 'y값', 그래프 디자인-'없음','o','.''r.','k.'b.','m.',':','-')\n",
        "\n",
        "plt.xlabel('angle(radian)')\n",
        "plt.ylabel('value')\n",
        "plt.title('my first sine curve')\n",
        "\n",
        "# 문제: 그래프의 점들의 개수는 몇 개인가? 100개\n",
        "# 첫 번째 점은 theta=0인 값\n",
        "\n",
        "# print(theta.shape)"
      ],
      "execution_count": null,
      "outputs": []
    },
    {
      "cell_type": "code",
      "metadata": {
        "id": "WTqXoomZBbBk",
        "colab": {
          "base_uri": "https://localhost:8080/",
          "height": 314
        },
        "outputId": "ceafe1be-ebf6-41a4-b84a-ed448f2bbe68"
      },
      "source": [
        "theta2 = np.linspace(0, 2*np.pi, 100) + np.pi/2 # 0도 부터 2π까지 + 90도(π/2)\n",
        "s2 = np.sin(theta2)\n",
        "plt.plot(theta2, s2, 'b:')\n",
        "\n",
        "plt.xlabel('angle(radian)')\n",
        "plt.ylabel('value')\n",
        "plt.title('my first sine curve')\n",
        "\n",
        "# 앞의 sin 곡선과의 phase difference(각도 차이)는 90도!!"
      ],
      "execution_count": null,
      "outputs": [
        {
          "output_type": "execute_result",
          "data": {
            "text/plain": [
              "Text(0.5, 1.0, 'my first sine curve')"
            ]
          },
          "metadata": {},
          "execution_count": 28
        },
        {
          "output_type": "display_data",
          "data": {
            "image/png": "[encoded data removed]",
            "text/plain": [
              "<Figure size 432x288 with 1 Axes>"
            ]
          },
          "metadata": {
            "needs_background": "light"
          }
        }
      ]
    },
    {
      "cell_type": "markdown",
      "metadata": {
        "id": "qW58sY_HZUih"
      },
      "source": [
        "phase difference (위상차)"
      ]
    },
    {
      "cell_type": "code",
      "metadata": {
        "id": "TuH489v9BvQ7"
      },
      "source": [
        "np.corrcoef(s,s2)"
      ],
      "execution_count": null,
      "outputs": []
    }
  ]
}