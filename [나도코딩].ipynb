{
  "nbformat": 4,
  "nbformat_minor": 0,
  "metadata": {
    "colab": {
      "name": "[나도코딩].ipynb",
      "provenance": [],
      "collapsed_sections": [],
      "authorship_tag": "ABX9TyPnR9oVY8iI5xuoGv8AHQBZ",
      "include_colab_link": true
    },
    "kernelspec": {
      "name": "python3",
      "display_name": "Python 3"
    },
    "language_info": {
      "name": "python"
    }
  },
  "cells": [
    {
      "cell_type": "markdown",
      "metadata": {
        "id": "view-in-github",
        "colab_type": "text"
      },
      "source": [
        "<a href=\"https://colab.research.google.com/github/Junse0/-/blob/main/%5B%EB%82%98%EB%8F%84%EC%BD%94%EB%94%A9%5D.ipynb\" target=\"_parent\"><img src=\"https://colab.research.google.com/assets/colab-badge.svg\" alt=\"Open In Colab\"/></a>"
      ]
    },
    {
      "cell_type": "code",
      "metadata": {
        "colab": {
          "base_uri": "https://localhost:8080/"
        },
        "id": "Q2_Feo5FW5kI",
        "outputId": "f43b431e-84f3-48f8-86a2-8342a57e8870"
      },
      "source": [
        "print(\"hello world\")"
      ],
      "execution_count": null,
      "outputs": [
        {
          "output_type": "stream",
          "name": "stdout",
          "text": [
            "hello world\n"
          ]
        }
      ]
    },
    {
      "cell_type": "code",
      "metadata": {
        "colab": {
          "base_uri": "https://localhost:8080/"
        },
        "id": "2VtbRZwhYDNb",
        "outputId": "92a40e75-48b4-433e-bdaa-f02e8340b136"
      },
      "source": [
        "# 2-1.숫자 자료형\n",
        "print(5)\n",
        "print(-10)\n",
        "print(3.14)\n",
        "print(1000)\n",
        "print(5+3)\n",
        "print(2*8)\n",
        "print(3*(3+1))"
      ],
      "execution_count": null,
      "outputs": [
        {
          "output_type": "stream",
          "name": "stdout",
          "text": [
            "5\n",
            "-10\n",
            "3.14\n",
            "1000\n",
            "8\n",
            "16\n",
            "12\n"
          ]
        }
      ]
    },
    {
      "cell_type": "code",
      "metadata": {
        "colab": {
          "base_uri": "https://localhost:8080/"
        },
        "id": "c6s0tWl0ZFp-",
        "outputId": "2a92ce0f-366d-4164-80d8-04720dde0039"
      },
      "source": [
        "# 2-2.문자열 자료형\n",
        "print('풍선')\n",
        "print(\"나비\")\n",
        "print(\"ㅋㅋㅋㅋㅋㅋㅋㅋㅋ\")\n",
        "print(\"ㅋ\"*9)\n"
      ],
      "execution_count": null,
      "outputs": [
        {
          "output_type": "stream",
          "name": "stdout",
          "text": [
            "풍선\n",
            "나비\n",
            "ㅋㅋㅋㅋㅋㅋㅋㅋㅋ\n",
            "ㅋㅋㅋㅋㅋㅋㅋㅋㅋ\n"
          ]
        }
      ]
    },
    {
      "cell_type": "code",
      "metadata": {
        "colab": {
          "base_uri": "https://localhost:8080/"
        },
        "id": "ohuD9cADZhZR",
        "outputId": "1bc7fc2a-ee70-400a-b3c0-0c21af7159c7"
      },
      "source": [
        "# 2-3. boolean 자료형\n",
        "# 참/ 거짓\n",
        "print(5>10)\n",
        "print(5<10)\n",
        "print(True)\n",
        "print(False)\n",
        "print(not True)\n",
        "print(not False)\n",
        "print(not(5>10)) #False의 not"
      ],
      "execution_count": null,
      "outputs": [
        {
          "output_type": "stream",
          "name": "stdout",
          "text": [
            "False\n",
            "True\n",
            "True\n",
            "False\n",
            "False\n",
            "True\n",
            "True\n"
          ]
        }
      ]
    },
    {
      "cell_type": "code",
      "metadata": {
        "colab": {
          "base_uri": "https://localhost:8080/"
        },
        "id": "FmPFzwV-aFem",
        "outputId": "048d8375-f9ec-4a8b-9925-0dc15d85c536"
      },
      "source": [
        "# 2-4.변수\n",
        "# 애완동물을 소개해 주세요~\n",
        "print(\"우리집 강아지의 이름은 연탄이예요\")\n",
        "print(\"연탄이는 4살이며, 산책을 아주 좋아해요\")\n",
        "print(\"연탄이는 어른일까요? True\")\n",
        "\n",
        "# 강아지 이름을 연탄이에서 해피로...\n",
        "\n",
        "animal=\"고양이\"\n",
        "name=\"해피\"\n",
        "age=4 #정수형 자료이기 때문에 \"\"없이\n",
        "hobby=\"낮잠\"\n",
        "is_adult=age>=3\n",
        "\n",
        "print(\"우리집 \"+animal+\"의 이름은 \"+name+\"예요\")\n",
        "print(name+\"는 \"+str(age)+\"살이며, \"+hobby+\"을 아주 좋아해요\") #str(정수): 정수형을 문자형으로 바꿈\n",
        "print(name+\"는 어른일까요?\"+str(is_adult))\n",
        "\n",
        "# 변수는 문장 중간에 들어갈 수도 있음\n",
        "\n",
        "animal=\"고양이\"\n",
        "name=\"해피\"\n",
        "age=4 #정수형 자료이기 때문에 \"\"없이\n",
        "hobby=\"낮잠\"\n",
        "is_adult=age>=3\n",
        "\n",
        "print(\"우리집 \"+animal+\"의 이름은 \"+name+\"예요\")\n",
        "hobby=\"공놀이\" #위에 낮잠이더라도 공놀이로 적용됨\n",
        "print(name+\"는 \"+str(age)+\"살이며, \"+hobby+\"을 아주 좋아해요\") #str(정수): 정수형을 문자형으로 바꿈\n",
        "print(name+\"는 어른일까요?\"+str(is_adult))\n",
        "\n",
        "# +말고 쉼표도 가능\n",
        "\n",
        "print(name,\"는 \",age,\"살이며, \",hobby,\"을 아주 좋아해요\") #정수형 변수나 boolean변수를 그대로 사용할 수 있음 #무조건 띄어쓰기 하나씩 포함됨"
      ],
      "execution_count": null,
      "outputs": [
        {
          "output_type": "stream",
          "name": "stdout",
          "text": [
            "우리집 강아지의 이름은 연탄이예요\n",
            "연탄이는 4살이며, 산책을 아주 좋아해요\n",
            "연탄이는 어른일까요? True\n",
            "우리집 고양이의 이름은 해피예요\n",
            "해피는 4살이며, 낮잠을 아주 좋아해요\n",
            "해피는 어른일까요?True\n",
            "우리집 고양이의 이름은 해피예요\n",
            "해피는 4살이며, 공놀이을 아주 좋아해요\n",
            "해피는 어른일까요?True\n",
            "해피 는  4 살이며,  공놀이 을 아주 좋아해요\n"
          ]
        }
      ]
    },
    {
      "cell_type": "code",
      "metadata": {
        "colab": {
          "base_uri": "https://localhost:8080/",
          "height": 34
        },
        "id": "Bg-exl-6eK7S",
        "outputId": "f66fa657-9d3d-4918-dfc9-c688dcff3804"
      },
      "source": [
        "# 2-5.주석\n",
        "# 프로그램 코드 내에 포함되지만, 실행은 되지 않음\n",
        "'''이렇게\n",
        "하면\n",
        "여러문장이\n",
        "주석처리\n",
        "됩니다'''\n",
        "#여러문장 드래그 후, 컨트롤+슬러시(한 번 더 하면 주석 해지)"
      ],
      "execution_count": null,
      "outputs": [
        {
          "output_type": "execute_result",
          "data": {
            "application/vnd.google.colaboratory.intrinsic+json": {
              "type": "string"
            },
            "text/plain": [
              "' 이렇게\\n하면\\n여러문장이\\n주석처리\\n됩니다 '"
            ]
          },
          "metadata": {},
          "execution_count": 30
        }
      ]
    },
    {
      "cell_type": "code",
      "metadata": {
        "colab": {
          "base_uri": "https://localhost:8080/"
        },
        "id": "x016Cy8te1ac",
        "outputId": "dad81550-01eb-443b-e563-ebcdd0e527e6"
      },
      "source": [
        "# Quiz) 변수를 이용하여 다음 문장을 출려학시오\n",
        "# 변수명\n",
        "# : station\n",
        "# 변수값: \"사당\", \"신도림\", \"인천공항\" 순서대로 입력\n",
        "# 출력 문장\n",
        "# : XX 행 열차가 들어오고 있습니다.\n",
        "\n",
        "station=\"사당\"\n",
        "print(station+\"행 열차가 들어오고 있습니다\")\n",
        "\n",
        "station=\"신도림\"\n",
        "print(station+\"행 열차가 들어오고 있습니다\")\n",
        "\n",
        "station=\"인천공항\"\n",
        "print(station+\"행 열차가 들어오고 있습니다\")\n",
        "\n"
      ],
      "execution_count": null,
      "outputs": [
        {
          "output_type": "stream",
          "name": "stdout",
          "text": [
            "사당행 열차가 들어오고 있습니다\n",
            "신도림행 열차가 들어오고 있습니다\n",
            "인천공항행 열차가 들어오고 있습니다\n"
          ]
        }
      ]
    }
  ]
}