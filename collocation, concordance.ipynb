{
  "nbformat": 4,
  "nbformat_minor": 0,
  "metadata": {
    "colab": {
      "name": "Untitled6.ipynb",
      "provenance": [],
      "authorship_tag": "ABX9TyPCILygItOqx57Mr6cQqrJe",
      "include_colab_link": true
    },
    "kernelspec": {
      "name": "python3",
      "display_name": "Python 3"
    },
    "language_info": {
      "name": "python"
    }
  },
  "cells": [
    {
      "cell_type": "markdown",
      "metadata": {
        "id": "view-in-github",
        "colab_type": "text"
      },
      "source": [
        "<a href=\"https://colab.research.google.com/github/Junse0/Private/blob/main/collocation%2C%20concordance.ipynb\" target=\"_parent\"><img src=\"https://colab.research.google.com/assets/colab-badge.svg\" alt=\"Open In Colab\"/></a>"
      ]
    },
    {
      "cell_type": "markdown",
      "metadata": {
        "id": "OmwXTL0UA5aw"
      },
      "source": [
        "### Collocation, Concordance"
      ]
    },
    {
      "cell_type": "markdown",
      "metadata": {
        "id": "SuTI4hZhF8AU"
      },
      "source": [
        "두 단어의 연쇄 / 예문 찾을 때"
      ]
    },
    {
      "cell_type": "code",
      "source": [
        "import nltk"
      ],
      "metadata": {
        "id": "voL1Jry0zfvB"
      },
      "execution_count": 9,
      "outputs": []
    },
    {
      "cell_type": "code",
      "source": [
        "from nltk.tokenize import word_tokenize\n",
        "nltk.download('punkt') "
      ],
      "metadata": {
        "id": "oDJKxBhNz1Ru"
      },
      "execution_count": null,
      "outputs": []
    },
    {
      "cell_type": "code",
      "metadata": {
        "id": "Fll4ygxNA3OJ"
      },
      "source": [
        "nltk.download('gutenberg')    #gutenberg: nltk corpus\n",
        "text = nltk.corpus.gutenberg.raw('melville-moby_dick.txt')\n",
        "words = nltk.word_tokenize(text)    #str을 list로 바꿔주는 tokenizer"
      ],
      "execution_count": null,
      "outputs": []
    },
    {
      "cell_type": "code",
      "source": [
        "#예문\n",
        "nltk.download('gutenberg')  #nltk corpus\n",
        "text = nltk.corpus.gutenberg.raw('melville-moby_dick.txt')\n",
        "print(text)\n",
        "\n",
        "len(text)\n",
        "print(len(text))"
      ],
      "metadata": {
        "id": "93jSOZggxssI"
      },
      "execution_count": null,
      "outputs": []
    },
    {
      "cell_type": "code",
      "metadata": {
        "id": "NqVXlhIrAtmf"
      },
      "source": [
        "nltk.Text(words).collocations()"
      ],
      "execution_count": null,
      "outputs": []
    },
    {
      "cell_type": "code",
      "metadata": {
        "id": "Aq0wiutwA_au"
      },
      "source": [
        "nltk.Text(words).concordance('great', 79, 10) # concordance-용법, 용례"
      ],
      "execution_count": null,
      "outputs": []
    }
  ]
}