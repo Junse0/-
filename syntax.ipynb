{
  "nbformat": 4,
  "nbformat_minor": 0,
  "metadata": {
    "kernelspec": {
      "display_name": "Python 3",
      "language": "python",
      "name": "python3"
    },
    "language_info": {
      "codemirror_mode": {
        "name": "ipython",
        "version": 3
      },
      "file_extension": ".py",
      "mimetype": "text/x-python",
      "name": "python",
      "nbconvert_exporter": "python",
      "pygments_lexer": "ipython3",
      "version": "3.7.1"
    },
    "colab": {
      "name": "syntax.ipynb",
      "provenance": [],
      "include_colab_link": true
    }
  },
  "cells": [
    {
      "cell_type": "markdown",
      "metadata": {
        "id": "view-in-github",
        "colab_type": "text"
      },
      "source": [
        "<a href=\"https://colab.research.google.com/github/Junse0/Private/blob/main/syntax.ipynb\" target=\"_parent\"><img src=\"https://colab.research.google.com/assets/colab-badge.svg\" alt=\"Open In Colab\"/></a>"
      ]
    },
    {
      "cell_type": "markdown",
      "source": [
        "#Syntax\n",
        "\n",
        "for 같은 패턴을 여러번 반복\n",
        "\n",
        "if ~할 때만 해라"
      ],
      "metadata": {
        "id": "FC9iwNvuQLVM"
      }
    },
    {
      "cell_type": "markdown",
      "source": [
        "function 누군가 만들어놓은 operation\n",
        "\n",
        "-입력과 출력을 가질 수 있음/ 없을 수도 있지만 언제든지 specify할 수 있음\n",
        "\n",
        "명령어('입력')\n",
        "\n",
        "ex.len(),print()..."
      ],
      "metadata": {
        "id": "wNZg41tBYywS"
      }
    },
    {
      "cell_type": "code",
      "metadata": {
        "id": "Fu2mzgrqSLAU",
        "outputId": "4153d5c7-7548-4413-926b-74229ff0fa91",
        "colab": {
          "base_uri": "https://localhost:8080/"
        }
      },
      "source": [
        "a = [1, 2, 3, 4]                                                                # 리스트\n",
        "for i in a:                                                                     # a(리스트)에 있는 것에서 제일 첫 번째 부터 끝까지 i라는 변수에 넣어라(리스트의 개수만큼 for loop가 돎)\n",
        "    print(i) \n",
        "\n",
        "# a = [1, 2, 3, 4]\n",
        "# print(a[0])\n",
        "# print(a[1])\n",
        "# print(a[2])\n",
        "# print(a[3])\n",
        "\n",
        "# 형식\n",
        "# for   in  :\n",
        "#   print\n",
        "\n",
        "#indentation(들여쓰기)은 for 밑이라는 것을 표현\n",
        "\n",
        "a = [1, 2, 3, 4]\n",
        "for i in a:\n",
        "  print(i) \n",
        "  print(i+1)                                                                    # 1 2 2 3 3 4 4 5\n",
        "\n",
        "a = [1, 2, 3, 4]\n",
        "for i in a:\n",
        "  print(i)                                                                      # 1 2 3 4\n",
        "print(i+1)                                                                      # 5\n"
      ],
      "execution_count": null,
      "outputs": [
        {
          "output_type": "stream",
          "name": "stdout",
          "text": [
            "1\n",
            "2\n",
            "3\n",
            "4\n",
            "1\n",
            "2\n",
            "2\n",
            "3\n",
            "3\n",
            "4\n",
            "4\n",
            "5\n",
            "1\n",
            "2\n",
            "3\n",
            "4\n",
            "5\n"
          ]
        }
      ]
    },
    {
      "cell_type": "code",
      "metadata": {
        "id": "57nhbq8BEs1H",
        "outputId": "90057a78-dfe4-471c-8eed-f7f4a93b6a28",
        "colab": {
          "base_uri": "https://localhost:8080/"
        }
      },
      "source": [
        "a = [1, 2, 3, 4]\n",
        "for i in a :\n",
        "  print(i)\n",
        "  print('hello')\n"
      ],
      "execution_count": null,
      "outputs": [
        {
          "output_type": "stream",
          "name": "stdout",
          "text": [
            "1\n",
            "hello\n",
            "2\n",
            "hello\n",
            "3\n",
            "hello\n",
            "4\n",
            "hello\n"
          ]
        }
      ]
    },
    {
      "cell_type": "code",
      "metadata": {
        "id": "XSJxLJVCSLAW",
        "outputId": "63ffea6d-c213-44f8-a57f-ef0485253ce0",
        "colab": {
          "base_uri": "https://localhost:8080/"
        }
      },
      "source": [
        "# a = [1, 2, 3, 4]\n",
        "# for i in range(4):                                                            # 4개의 인덱스(0,1,2,3)가 만들어짐 (굳이 4를 넣은 이유는 a의 길이가 4이기 때문에)(range 3은 ok, 5는 error)\n",
        "#     print(a[i])                                                               # a의 0번째, a의 1번째...\n",
        "\n",
        "a = [1, 2, 3, 4]\n",
        "for i in range(len(a)): #len(a)는 a의 길이를 출력\n",
        "    print(a[i])\n",
        "\n",
        "# range()라는 함수는 4하면 4번, 5하면 5번 돎 (0,1,2,... 인덱스를 생성)\n",
        "\n"
      ],
      "execution_count": null,
      "outputs": [
        {
          "output_type": "stream",
          "name": "stdout",
          "text": [
            "1\n",
            "2\n",
            "3\n",
            "4\n"
          ]
        }
      ]
    },
    {
      "cell_type": "code",
      "source": [
        "a=[1, 2, 3, 4]\n",
        "\n",
        "len(a) # 전형적인 함수(리스트 속의 component 개수를 뱉어줌, 뱉어주는 것이 'output')   \n",
        "# 셀의 마지막에서는 굳이 print하지 않아도 자동으로 출력됨"
      ],
      "metadata": {
        "id": "aqGtYG5rZVTg",
        "outputId": "878818fb-ae00-40c0-c4fd-9f652596ea8b",
        "colab": {
          "base_uri": "https://localhost:8080/"
        }
      },
      "execution_count": 1,
      "outputs": [
        {
          "output_type": "execute_result",
          "data": {
            "text/plain": [
              "4"
            ]
          },
          "metadata": {},
          "execution_count": 1
        }
      ]
    },
    {
      "cell_type": "code",
      "metadata": {
        "id": "VTfxVRdgSLAW",
        "outputId": "16c59b7c-4649-4f60-beda-8ec90ba412b3",
        "colab": {
          "base_uri": "https://localhost:8080/"
        }
      },
      "source": [
        "a = ['red', 'green', 'blue', 'purple']\n",
        "for i in a:\n",
        "    print(i)"
      ],
      "execution_count": null,
      "outputs": [
        {
          "output_type": "stream",
          "name": "stdout",
          "text": [
            "red\n",
            "green\n",
            "blue\n",
            "purple\n"
          ]
        }
      ]
    },
    {
      "cell_type": "code",
      "metadata": {
        "id": "Vc-7pW85SLAW",
        "outputId": "47e3cba6-bc38-42dc-f470-a345645f8445",
        "colab": {
          "base_uri": "https://localhost:8080/"
        }
      },
      "source": [
        "a = ['red', 'green', 'blue', 'purple']\n",
        "for i in range(len(a)):                                                         #len(a)는 a의 개수\n",
        "    print(a[i])"
      ],
      "execution_count": null,
      "outputs": [
        {
          "output_type": "stream",
          "name": "stdout",
          "text": [
            "red\n",
            "green\n",
            "blue\n",
            "purple\n"
          ]
        }
      ]
    },
    {
      "cell_type": "code",
      "metadata": {
        "id": "dD-ephD3SLAX",
        "outputId": "1df5792d-2e7d-4c1c-c14b-6b552120b281",
        "colab": {
          "base_uri": "https://localhost:8080/"
        }
      },
      "source": [
        "a = 0\n",
        "if a == 1:                                                                      # if, else 모두 : 으로 마무리   # '==' 같다\n",
        "    print(a)                                                                    # if(else)도 마찬가지로 indentation(들여쓰기)한 부분까지 포함함\n",
        "else:                                                                           # else는 굳이 없어도 됨\n",
        "  print(a+1)"
      ],
      "execution_count": null,
      "outputs": [
        {
          "output_type": "stream",
          "name": "stdout",
          "text": [
            "1\n"
          ]
        }
      ]
    },
    {
      "cell_type": "markdown",
      "source": [
        "nested loop, nested for"
      ],
      "metadata": {
        "id": "wP5j7HBiVRtR"
      }
    },
    {
      "cell_type": "code",
      "metadata": {
        "id": "M0AZaDMvSLAY",
        "outputId": "90ea184d-2056-48e0-ed56-d6e04af4a3a9",
        "colab": {
          "base_uri": "https://localhost:8080/"
        }
      },
      "source": [
        "for i in range(1, 3):                                                           # 1부터 2(3포함하지 않고)까지    \n",
        "    for j in range(3, 5):                                                       # 3에서 4까지\n",
        "        print(i*j)\n",
        "# 1*3/4\n",
        "# 2*3/4"
      ],
      "execution_count": null,
      "outputs": [
        {
          "output_type": "stream",
          "name": "stdout",
          "text": [
            "3\n",
            "4\n",
            "6\n",
            "8\n"
          ]
        }
      ]
    },
    {
      "cell_type": "code",
      "source": [
        "# 문제: inner loop는 몇 번 도는가? 답: 4번(3,4,5,6)\n",
        "# 문제: outer loop는 몇 번 도는가? 답: 4번\n",
        "# 문제: print out은 총 몇 번 찍히는가? 답: 16번\n",
        "\n",
        "for i in range(1, 5)                                                            # outer loop\n",
        "  for j in range(3, 7):                                                         # inner loop\n",
        "      print(i*j)\n"
      ],
      "metadata": {
        "id": "uCCbLirdb-9X"
      },
      "execution_count": null,
      "outputs": []
    },
    {
      "cell_type": "code",
      "metadata": {
        "id": "ZPpZmVIHSLAY",
        "outputId": "5ef3e972-b785-4dcc-fda8-8c709a4aa450",
        "colab": {
          "base_uri": "https://localhost:8080/"
        }
      },
      "source": [
        "for i in range(1, 3):                                                           # 1, 2\n",
        "    for j in range(3, 5):                                                       # 3, 4\n",
        "        if j >=4:\n",
        "            print(i*j)                                                          # print도 indentation"
      ],
      "execution_count": null,
      "outputs": [
        {
          "output_type": "stream",
          "name": "stdout",
          "text": [
            "4\n",
            "8\n"
          ]
        }
      ]
    },
    {
      "cell_type": "markdown",
      "metadata": {
        "id": "E6JepiEdJWrP"
      },
      "source": [
        "list comprehension"
      ]
    },
    {
      "cell_type": "code",
      "metadata": {
        "id": "JQXk5vi0SLAY",
        "outputId": "0f6db065-5377-4495-f781-b619249e6e12",
        "colab": {
          "base_uri": "https://localhost:8080/"
        }
      },
      "source": [
        "a = [1, 2, 3, 4]\n",
        "b = [i for i in a if i >=2] # for loop가 'for i in a'이고 'if i >=2'이 for loop 아래에 있다고 생각\n",
        "b #가장 마지막 셀에서는 print하지 않아도 됨\n",
        "\n",
        "# for i in a\n",
        "#   if i >=2\n",
        "# 일 때 b를 i로 채워라"
      ],
      "execution_count": null,
      "outputs": [
        {
          "output_type": "execute_result",
          "data": {
            "text/plain": [
              "[2, 3, 4]"
            ]
          },
          "metadata": {},
          "execution_count": 10
        }
      ]
    },
    {
      "cell_type": "code",
      "metadata": {
        "id": "MDmBGZ3LSLAZ",
        "outputId": "819b054f-e44c-4312-eed8-eb55db64efc0",
        "colab": {
          "base_uri": "https://localhost:8080/"
        }
      },
      "source": [
        "a = ['red', 'green', 'blue', 'purple']                                          # str으로만 채워진 list임\n",
        "b = [i for i in a if len(i) >=4]                                                # len 문자의 개수\n",
        "b\n"
      ],
      "execution_count": null,
      "outputs": [
        {
          "output_type": "execute_result",
          "data": {
            "text/plain": [
              "['green', 'blue', 'purple']"
            ]
          },
          "metadata": {},
          "execution_count": 11
        }
      ]
    }
  ]
}