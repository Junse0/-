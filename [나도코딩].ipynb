{
  "nbformat": 4,
  "nbformat_minor": 0,
  "metadata": {
    "colab": {
      "name": "[나도코딩].ipynb",
      "provenance": [],
      "collapsed_sections": [],
      "authorship_tag": "ABX9TyM3ZdPIXdjeg9hL2dVNaCJm",
      "include_colab_link": true
    },
    "kernelspec": {
      "name": "python3",
      "display_name": "Python 3"
    },
    "language_info": {
      "name": "python"
    }
  },
  "cells": [
    {
      "cell_type": "markdown",
      "metadata": {
        "id": "view-in-github",
        "colab_type": "text"
      },
      "source": [
        "<a href=\"https://colab.research.google.com/github/Junse0/Private/blob/main/%5B%EB%82%98%EB%8F%84%EC%BD%94%EB%94%A9%5D.ipynb\" target=\"_parent\"><img src=\"https://colab.research.google.com/assets/colab-badge.svg\" alt=\"Open In Colab\"/></a>"
      ]
    },
    {
      "cell_type": "code",
      "metadata": {
        "colab": {
          "base_uri": "https://localhost:8080/"
        },
        "id": "Q2_Feo5FW5kI",
        "outputId": "2ee27d1e-217c-4335-88cf-d3cba589a54d"
      },
      "source": [
        "print(\"hello world\")"
      ],
      "execution_count": 4,
      "outputs": [
        {
          "output_type": "stream",
          "name": "stdout",
          "text": [
            "hello world\n"
          ]
        }
      ]
    },
    {
      "cell_type": "code",
      "metadata": {
        "colab": {
          "base_uri": "https://localhost:8080/"
        },
        "id": "2VtbRZwhYDNb",
        "outputId": "583d0763-b3f9-4161-c526-5f61a0eda595"
      },
      "source": [
        "# 2-1.숫자 자료형\n",
        "print(5)\n",
        "print(-10)\n",
        "print(3.14)\n",
        "print(1000)\n",
        "print(5+3)\n",
        "print(2*8)\n",
        "print(3*(3+1))"
      ],
      "execution_count": 5,
      "outputs": [
        {
          "output_type": "stream",
          "name": "stdout",
          "text": [
            "5\n",
            "-10\n",
            "3.14\n",
            "1000\n",
            "8\n",
            "16\n",
            "12\n"
          ]
        }
      ]
    },
    {
      "cell_type": "code",
      "metadata": {
        "colab": {
          "base_uri": "https://localhost:8080/"
        },
        "id": "c6s0tWl0ZFp-",
        "outputId": "770f8ef7-20cb-4c33-fa11-854cfc409ded"
      },
      "source": [
        "# 2-2.문자열 자료형\n",
        "print('풍선')\n",
        "print(\"나비\")\n",
        "print(\"ㅋㅋㅋㅋㅋㅋㅋㅋㅋ\")\n",
        "print(\"ㅋ\"*9)"
      ],
      "execution_count": 6,
      "outputs": [
        {
          "output_type": "stream",
          "name": "stdout",
          "text": [
            "풍선\n",
            "나비\n",
            "ㅋㅋㅋㅋㅋㅋㅋㅋㅋ\n",
            "ㅋㅋㅋㅋㅋㅋㅋㅋㅋ\n"
          ]
        }
      ]
    },
    {
      "cell_type": "code",
      "metadata": {
        "colab": {
          "base_uri": "https://localhost:8080/"
        },
        "id": "ohuD9cADZhZR",
        "outputId": "59832217-559b-44a0-c893-5bb3c3375b7c"
      },
      "source": [
        "# 2-3. boolean 자료형\n",
        "# 참/ 거짓\n",
        "print(5>10)\n",
        "print(5<10)\n",
        "print(True)\n",
        "print(False)\n",
        "print(not True)\n",
        "print(not False)\n",
        "print(not(5>10)) #False의 not"
      ],
      "execution_count": 7,
      "outputs": [
        {
          "output_type": "stream",
          "name": "stdout",
          "text": [
            "False\n",
            "True\n",
            "True\n",
            "False\n",
            "False\n",
            "True\n",
            "True\n"
          ]
        }
      ]
    },
    {
      "cell_type": "code",
      "metadata": {
        "colab": {
          "base_uri": "https://localhost:8080/"
        },
        "id": "FmPFzwV-aFem",
        "outputId": "7e63038b-1c33-49a2-9a9b-73514bfa8722"
      },
      "source": [
        "# 2-4.변수\n",
        "# 애완동물을 소개해 주세요~\n",
        "print(\"우리집 강아지의 이름은 연탄이예요\")\n",
        "print(\"연탄이는 4살이며, 산책을 아주 좋아해요\")\n",
        "print(\"연탄이는 어른일까요? True\")\n",
        "\n",
        "# 강아지 이름을 연탄이에서 해피로...\n",
        "\n",
        "animal=\"고양이\"\n",
        "name=\"해피\"\n",
        "age=4 #정수형 자료이기 때문에 \"\"없이\n",
        "hobby=\"낮잠\"\n",
        "is_adult=age>=3\n",
        "\n",
        "print(\"우리집 \"+animal+\"의 이름은 \"+name+\"예요\")\n",
        "print(name+\"는 \"+str(age)+\"살이며, \"+hobby+\"을 아주 좋아해요\") #str(정수): 정수형을 문자형으로 바꿈\n",
        "print(name+\"는 어른일까요?\"+str(is_adult))\n",
        "\n",
        "# 변수는 문장 중간에 들어갈 수도 있음\n",
        "\n",
        "animal=\"고양이\"\n",
        "name=\"해피\"\n",
        "age=4 #정수형 자료이기 때문에 \"\"없이\n",
        "hobby=\"낮잠\"\n",
        "is_adult=age>=3\n",
        "\n",
        "print(\"우리집 \"+animal+\"의 이름은 \"+name+\"예요\")\n",
        "hobby=\"공놀이\" #위에 낮잠이더라도 공놀이로 적용됨\n",
        "print(name+\"는 \"+str(age)+\"살이며, \"+hobby+\"을 아주 좋아해요\") #str(정수): 정수형을 문자형으로 바꿈\n",
        "print(name+\"는 어른일까요?\"+str(is_adult))\n",
        "\n",
        "# +말고 쉼표도 가능\n",
        "\n",
        "print(name,\"는 \",age,\"살이며, \",hobby,\"을 아주 좋아해요\") #정수형 변수나 boolean변수를 그대로 사용할 수 있음 #무조건 띄어쓰기 하나씩 포함됨"
      ],
      "execution_count": 8,
      "outputs": [
        {
          "output_type": "stream",
          "name": "stdout",
          "text": [
            "우리집 강아지의 이름은 연탄이예요\n",
            "연탄이는 4살이며, 산책을 아주 좋아해요\n",
            "연탄이는 어른일까요? True\n",
            "우리집 고양이의 이름은 해피예요\n",
            "해피는 4살이며, 낮잠을 아주 좋아해요\n",
            "해피는 어른일까요?True\n",
            "우리집 고양이의 이름은 해피예요\n",
            "해피는 4살이며, 공놀이을 아주 좋아해요\n",
            "해피는 어른일까요?True\n",
            "해피 는  4 살이며,  공놀이 을 아주 좋아해요\n"
          ]
        }
      ]
    },
    {
      "cell_type": "code",
      "metadata": {
        "colab": {
          "base_uri": "https://localhost:8080/",
          "height": 34
        },
        "id": "Bg-exl-6eK7S",
        "outputId": "c833d827-9b50-4ab5-af20-daad661de8af"
      },
      "source": [
        "# 2-5.주석\n",
        "# 프로그램 코드 내에 포함되지만, 실행은 되지 않음\n",
        "'''이렇게\n",
        "하면\n",
        "여러문장이\n",
        "주석처리\n",
        "됩니다'''\n",
        "#여러문장 드래그 후, 컨트롤+슬러시(한 번 더 하면 주석 해지)"
      ],
      "execution_count": 9,
      "outputs": [
        {
          "output_type": "execute_result",
          "data": {
            "application/vnd.google.colaboratory.intrinsic+json": {
              "type": "string"
            },
            "text/plain": [
              "'이렇게\\n하면\\n여러문장이\\n주석처리\\n됩니다'"
            ]
          },
          "metadata": {},
          "execution_count": 9
        }
      ]
    },
    {
      "cell_type": "code",
      "metadata": {
        "colab": {
          "base_uri": "https://localhost:8080/"
        },
        "id": "x016Cy8te1ac",
        "outputId": "ed7ac658-9ecf-4b29-c398-53f614c3028f"
      },
      "source": [
        "# Quiz1) 변수를 이용하여 다음 문장을 출려학시오\n",
        "# 변수명\n",
        "# : station\n",
        "# 변수값: \"사당\", \"신도림\", \"인천공항\" 순서대로 입력\n",
        "# 출력 문장\n",
        "# : XX 행 열차가 들어오고 있습니다.\n",
        "\n",
        "station=\"사당\"\n",
        "print(station+\"행 열차가 들어오고 있습니다\")\n",
        "\n",
        "station=\"신도림\"\n",
        "print(station+\"행 열차가 들어오고 있습니다\")\n",
        "\n",
        "station=\"인천공항\"\n",
        "print(station+\"행 열차가 들어오고 있습니다\")\n",
        "\n"
      ],
      "execution_count": 10,
      "outputs": [
        {
          "output_type": "stream",
          "name": "stdout",
          "text": [
            "사당행 열차가 들어오고 있습니다\n",
            "신도림행 열차가 들어오고 있습니다\n",
            "인천공항행 열차가 들어오고 있습니다\n"
          ]
        }
      ]
    },
    {
      "cell_type": "code",
      "metadata": {
        "colab": {
          "base_uri": "https://localhost:8080/"
        },
        "id": "O45PQNwVpSEW",
        "outputId": "2fa37eeb-45f6-4c18-ee54-41bbb43e0848"
      },
      "source": [
        "# 3-1.연산자\n",
        "print(1+1)\n",
        "print(3-2)\n",
        "print(5*2)\n",
        "print(6/3)\n",
        "\n",
        "print(2**3) #2^3=8\n",
        "print(5%3) #나머지 구하기 2\n",
        "print(10%3)\n",
        "print(5//3) #몫\n",
        "print(10//3)\n",
        "\n",
        "print(10>3) #True\n",
        "print(4>=7) #False\n",
        "print(10<3) #False\n",
        "print(5<=5) #True\n",
        "\n",
        "print(3==3) #앞과 뒤의 값이 똑같은지 확인하는 연산\n",
        "print(4==2) #False\n",
        "print(3+4==7)\n",
        "\n",
        "print(1!=3) #앞 뒤가 같지 않다\n",
        "print(not(1!=3)) #False\n",
        "\n",
        "print((3>0)and(3<5)) #True\n",
        "print((3>0&(3<5))) #True\n",
        "\n",
        "print((3>0) or (3>5)) #True\n",
        "print((3>0)|(3>5)) #True\n",
        "\n",
        "print(5>4>3) #True\n",
        "print(5>4>7) #False"
      ],
      "execution_count": 11,
      "outputs": [
        {
          "output_type": "stream",
          "name": "stdout",
          "text": [
            "2\n",
            "1\n",
            "10\n",
            "2.0\n",
            "8\n",
            "2\n",
            "1\n",
            "1\n",
            "3\n",
            "True\n",
            "False\n",
            "False\n",
            "True\n",
            "True\n",
            "False\n",
            "True\n",
            "True\n",
            "False\n",
            "True\n",
            "True\n",
            "True\n",
            "True\n",
            "True\n",
            "False\n"
          ]
        }
      ]
    },
    {
      "cell_type": "code",
      "metadata": {
        "colab": {
          "base_uri": "https://localhost:8080/"
        },
        "id": "DTiSzPE5qUWm",
        "outputId": "0045397e-5366-446d-9f9f-cf01c5711e0f"
      },
      "source": [
        "# 3-2.간단한 수식\n",
        "print(2+3*4) \n",
        "print((2+3)*4)\n",
        "number=2+3*4\n",
        "print(number)\n",
        "number = number+2 #16\n",
        "print(number)\n",
        "number+=2 # number=number+2와 같은 수식\n",
        "print(number)\n",
        "number*=2\n",
        "print(number)\n",
        "number/=2\n",
        "print(number)\n",
        "number-=2\n",
        "print(number)\n",
        "\n",
        "number%=5\n",
        "print(number)"
      ],
      "execution_count": 12,
      "outputs": [
        {
          "output_type": "stream",
          "name": "stdout",
          "text": [
            "14\n",
            "20\n",
            "14\n",
            "16\n",
            "18\n",
            "36\n",
            "18.0\n",
            "16.0\n",
            "1.0\n"
          ]
        }
      ]
    },
    {
      "cell_type": "code",
      "metadata": {
        "colab": {
          "base_uri": "https://localhost:8080/"
        },
        "id": "A25dTC3usA9H",
        "outputId": "f5294e09-d80b-49cc-fc9b-6a1bd469bbc6"
      },
      "source": [
        "# 3-3.숫자처리함수\n",
        "print(abs(-5)) #절댓값\n",
        "print(pow(4,2)) #4^2\n",
        "print(max(5,12))  #큰 값을 출력\n",
        "print(min(5,12)) #작은 값을 출력\n",
        "print(round(3.14))  #반올림\n",
        "print(round(4.99))\n",
        "\n",
        "from math import* #math 라이브러리에 있는 것을 사용하겠다.\n",
        "print(floor(4.99)) #내림\n",
        "print(ceil(3.14)) #올림\n",
        "print(sqrt(16)) #제곱근"
      ],
      "execution_count": 13,
      "outputs": [
        {
          "output_type": "stream",
          "name": "stdout",
          "text": [
            "5\n",
            "16\n",
            "12\n",
            "5\n",
            "3\n",
            "5\n",
            "4\n",
            "4\n",
            "4.0\n"
          ]
        }
      ]
    },
    {
      "cell_type": "code",
      "metadata": {
        "id": "RP2qSFnFo6IA",
        "colab": {
          "base_uri": "https://localhost:8080/"
        },
        "outputId": "486f70c1-2631-4722-b349-ffbd5c4e99a8"
      },
      "source": [
        "# 3-4.랜덤함수\n",
        "\n",
        "from random import*\n",
        "# print(random()) # 0.0~1.0 미만의 임의의 값을 생성\n",
        "# print(random()*10) #0.0~10.0 미만의 임의의 값을 생성\n",
        "# print(int(random()*10)) # 0~10 미만의 임의의 값을 생성\n",
        "# print(int(random()*10)) # 0~10 미만의 임의의 값을 생성\n",
        "# print(int(random()*10)) # 0~10 미만의 임의의 값을 생성\n",
        "print(int(random()*10+1)) #1~10 이하의 임의의 값을 생성\n",
        "\n",
        "print(int(random()*45+1)) #1~45이하의 임의의 값을 생성\n",
        "\n",
        "print(randrange(1,46)) #1~46 미만의 임의의 값을 생성\n",
        "\n",
        "print(randint(1,45)) #1~45 이하의 값을 생성(양 끝을 모두 포함)\n"
      ],
      "execution_count": 14,
      "outputs": [
        {
          "output_type": "stream",
          "name": "stdout",
          "text": [
            "9\n",
            "24\n",
            "4\n",
            "35\n"
          ]
        }
      ]
    },
    {
      "cell_type": "code",
      "metadata": {
        "id": "xh4VcfosrNI0",
        "colab": {
          "base_uri": "https://localhost:8080/"
        },
        "outputId": "0b7f974b-bf06-4e1c-b936-00f25122652f"
      },
      "source": [
        "# Quiz 2) 당신은 최근에 코딩 스터디 모임을 새로 만들었습니다.\n",
        "# 월 4회 스터디를 하는데 3번은 온라인으로 하고 1번은 오프라인으로 하기로 했습니다.\n",
        "# 아래 조건에 맞는 오프라인 모임 날짜를 정해주는 프로그램을 작성하시오.\n",
        "\n",
        "# 조건1: 랜덤으로 날짜를 뽑아야 함\n",
        "# 조건2: 월별 날짜는 다름을 감안하여 최소 일수인 28 이내로 정함\n",
        "# 조건3: 매일 1~3일은 스터디 준비를 해야 하므로 제외\n",
        "\n",
        "# (출력문 예제)\n",
        "# 오프라인 스터디 모임 날짜는 매월 X일로 선정되었습니다.\n",
        "from random import*\n",
        "\n",
        "date=randint(4,28)\n",
        "print('오프라인 스터디 모임 날짜는 매월' +str(date)+'일로 선정되었습니다.')"
      ],
      "execution_count": 15,
      "outputs": [
        {
          "output_type": "stream",
          "name": "stdout",
          "text": [
            "오프라인 스터디 모임 날짜는 매월5일로 선정되었습니다.\n"
          ]
        }
      ]
    },
    {
      "cell_type": "code",
      "metadata": {
        "id": "-6zAiC4XmJ7e",
        "colab": {
          "base_uri": "https://localhost:8080/"
        },
        "outputId": "a5a600c4-72fb-4634-f064-c10169f6246b"
      },
      "source": [
        "# 4-1. 문자열\n",
        "sentence='나는 소년입니다'\n",
        "print(sentence)\n",
        "sentence2=\"파이썬은 쉬워요\"\n",
        "print(sentence2)\n",
        "sentence3=\"\"\"\n",
        "나는 소년이고,\n",
        "파이썬은 쉬워요\n",
        "\"\"\"\n",
        "print(sentence3)"
      ],
      "execution_count": 16,
      "outputs": [
        {
          "output_type": "stream",
          "name": "stdout",
          "text": [
            "나는 소년입니다\n",
            "파이썬은 쉬워요\n",
            "\n",
            "나는 소년이고,\n",
            "파이썬은 쉬워요\n",
            "\n"
          ]
        }
      ]
    },
    {
      "cell_type": "code",
      "metadata": {
        "id": "wb3XyDthmhf8",
        "colab": {
          "base_uri": "https://localhost:8080/"
        },
        "outputId": "e24a739f-ae53-40f9-943b-0c45c5c24330"
      },
      "source": [
        "# 4-2. 슬라이싱\n",
        "jumin=\"990120-1234567\"\n",
        "\n",
        "print(\"성별;\"+jumin[7])\n",
        "print(\"연:\"+jumin[0:2]) #콜론은 0부터 2직전까지\n",
        "print(\"월:\"+jumin[2:4])\n",
        "print(\"일:\"+jumin[4:6])\n",
        "\n",
        "print(\"생년월일:\"+jumin[:6]) #처음부터 6직전까지\n",
        "print(\"뒤 7자리:\"+jumin[7:]) #7부터 끝까지\n",
        "print(\"뒤 7자리(뒤에서부터):\"+jumin[-7:]) #맨 뒤에서 7번째부터 끝까지\n"
      ],
      "execution_count": 17,
      "outputs": [
        {
          "output_type": "stream",
          "name": "stdout",
          "text": [
            "성별;1\n",
            "연:99\n",
            "월:01\n",
            "일:20\n",
            "생년월일:990120\n",
            "뒤 7자리:1234567\n",
            "뒤 7자리(뒤에서부터):1234567\n"
          ]
        }
      ]
    },
    {
      "cell_type": "code",
      "metadata": {
        "id": "lrdlZgWfoHLd",
        "colab": {
          "base_uri": "https://localhost:8080/"
        },
        "outputId": "0431e6bf-9d96-4ff0-f737-268fe9c57ead"
      },
      "source": [
        "# 4-3. 문자열처리함수\n",
        "python=\"Python is Amazing\"\n",
        "print(python.lower())\n",
        "print(python.upper())\n",
        "print(python[0].isupper())\n",
        "print(len(python))\n",
        "print(python.replace(\"Python\", \"Java\"))\n",
        "\n",
        "index=python.index(\"n\")\n",
        "print(index)\n",
        "index=python.index(\"n\", index+1) #index(text,start point) start point가 앞서 찾은 index+1\n",
        "print(index)\n",
        "\n",
        "print(python.find(\"Java\")) # -1(원하는 값이 포함되지 않을 경우)\n",
        "# print(python.index(\"Java\")) # 프로그램을 정지함\n",
        "print(\"hi\")\n",
        "\n",
        "print(python.count(\"n\"))\n"
      ],
      "execution_count": 18,
      "outputs": [
        {
          "output_type": "stream",
          "name": "stdout",
          "text": [
            "python is amazing\n",
            "PYTHON IS AMAZING\n",
            "True\n",
            "17\n",
            "Java is Amazing\n",
            "5\n",
            "15\n",
            "-1\n",
            "hi\n",
            "2\n"
          ]
        }
      ]
    },
    {
      "cell_type": "code",
      "metadata": {
        "id": "TV8Aea67oHRe",
        "colab": {
          "base_uri": "https://localhost:8080/"
        },
        "outputId": "fe36f38b-362e-4412-f28f-05f9b7f4e79f"
      },
      "source": [
        "# 4-4.문자열 포맷\n",
        "# print(\"a\"+\"b\")\n",
        "# print(\"a\",\"b\")\n",
        "\n",
        "# 방법1\n",
        "print(\"나는 %d살입니다.\" %20) # %d:정수\n",
        "print(\"나는 %s을 좋아해요.\" %\"파이썬\") # %s: 문자열\n",
        "print(\"Apple은 %c로 시작해요.\" %\"A\") #%c: 문자\n",
        "# %s\n",
        "print(\"나는 %s살입니다.\" %20) #정수\n",
        "print(\"나는 %s색과 %s색을 좋아해요.\" %(\"파란\", \"빨간\")) #순서대로 적용\n",
        "\n",
        "#방법2\n",
        "print(\"나는 {}살입니다.\".format(20))\n",
        "print(\"나는 {}색과 {}색을 좋아해요.\".format(\"파란\",\"빨간\"))\n",
        "print(\"나는 {0}색과 {1}색을 좋아해요.\".format(\"파란\",\"빨간\")) #파란 0번째, 빨간 1번째\n",
        "print(\"나는 {1}색과 {0}색을 좋아해요.\".format(\"파란\",\"빨간\"))\n",
        "\n",
        "#방법3\n",
        "print(\"나는{age}살이며, {color}색을 좋아해요.\".format(age=20, color=\"빨간\"))\n",
        "print(\"나는{age}살이며, {color}색을 좋아해요.\".format(color=\"빨간\", age=20))\n",
        "\n",
        "#방법4(v3.6 이상~)\n",
        "age=20\n",
        "color=\"빨간\"\n",
        "print(f\"나는{age}살이며, {color}색을 좋아해요.\")"
      ],
      "execution_count": 19,
      "outputs": [
        {
          "output_type": "stream",
          "name": "stdout",
          "text": [
            "나는 20살입니다.\n",
            "나는 파이썬을 좋아해요.\n",
            "Apple은 A로 시작해요.\n",
            "나는 20살입니다.\n",
            "나는 파란색과 빨간색을 좋아해요.\n",
            "나는 20살입니다.\n",
            "나는 파란색과 빨간색을 좋아해요.\n",
            "나는 파란색과 빨간색을 좋아해요.\n",
            "나는 빨간색과 파란색을 좋아해요.\n",
            "나는20살이며, 빨간색을 좋아해요.\n",
            "나는20살이며, 빨간색을 좋아해요.\n",
            "나는20살이며, 빨간색을 좋아해요.\n"
          ]
        }
      ]
    },
    {
      "cell_type": "code",
      "metadata": {
        "colab": {
          "base_uri": "https://localhost:8080/"
        },
        "id": "IRo_gWevb_h8",
        "outputId": "507c139e-bd3a-49bd-aeac-d1dc08c5fd9d"
      },
      "source": [
        "# 4-5.탈출문자\n",
        "print(\"백문이 불여일견 \\n백견이 불여일타\") #한글 키보드에서는 역슬래시가 \\임\n",
        "\n",
        "# \\\" \\': 문장 내에서 따옴표\n",
        "# 저는 \"나도코딩\"입니다.\n",
        "# print(\"저는 \"나도코딩\"입니다.\") #\"저는 \"을 하나의 문자열로 인식\n",
        "# print(\"저는 '나도코딩'입니다.\") # 저는 '나도코딩'입니다.\n",
        "# print('저는 \"나도코딩\"입니다.') # 저는 \"나도코딩\"입니다.\n",
        "print(\"저는 \\\"나도코딩\\\"입니다.\") # \\\" 는 문장내에서 큰 따옴표를 출력해주는 역할\n",
        "\n",
        "# \\\\: 문장내에서 \\\n",
        "# C:\\Users\\Nadocoding\\Desktop\\Pythonworkspace>\n",
        "print(\"C:\\\\Users\\\\Nadocoding\\\\Desktop\\\\Pythonworkspace>\")\n",
        "\n",
        "# \\r: 커서를 맨 앞으로 이동\n",
        "print(\"Red Apple\\rPine\")\n"
      ],
      "execution_count": 29,
      "outputs": [
        {
          "output_type": "stream",
          "name": "stdout",
          "text": [
            "백문이 불여일견 \n",
            "백견이 불여일타\n",
            "저는 \"나도코딩\"입니다.\n",
            "C:\\Users\\Nadocoding\\Desktop\\Pythonworkspace>\n",
            "Red Apple\rPine\n"
          ]
        }
      ]
    }
  ]
}